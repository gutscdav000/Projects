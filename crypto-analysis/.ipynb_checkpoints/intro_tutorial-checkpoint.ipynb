{
 "cells": [
  {
   "cell_type": "markdown",
   "metadata": {},
   "source": [
    "# Intro Tutorial"
   ]
  },
  {
   "cell_type": "markdown",
   "metadata": {},
   "source": [
    "## 1. Opening a notebook\n",
    "\n",
    "1. Open https://filrad.soic.indiana.edu:8080\n",
    "2. More details about opening the notebook are located at 'Announcements/Access to the notebook server'\n",
    "\n",
    "\n",
    "TEST ON SERVeR\n"
   ]
  },
  {
   "cell_type": "markdown",
   "metadata": {},
   "source": [
    "## 2. Cells\n",
    "\n",
    "Drop down menu has three options. \n",
    "1. 'Code' is for running code\n",
    "2. 'Markdown' is for typing notes like these. [Here](https://github.com/adam-p/markdown-here/wiki/Markdown-Cheatsheet) is a tutorial. This is useful for explaining code and graphs when submitting assignments\n",
    "\n",
    "press Shift+Enter to run code"
   ]
  },
  {
   "cell_type": "code",
   "execution_count": null,
   "metadata": {},
   "outputs": [],
   "source": [
    "1+2"
   ]
  },
  {
   "cell_type": "code",
   "execution_count": null,
   "metadata": {
    "collapsed": true
   },
   "outputs": [],
   "source": [
    "a = 3"
   ]
  },
  {
   "cell_type": "markdown",
   "metadata": {},
   "source": [
    "Variables are saved and can be used in the next cell. This is useful if you want to do step by step calculations"
   ]
  },
  {
   "cell_type": "code",
   "execution_count": null,
   "metadata": {},
   "outputs": [],
   "source": [
    "a + 2"
   ]
  },
  {
   "cell_type": "markdown",
   "metadata": {},
   "source": [
    "## 3. Other buttons\n",
    "\n",
    "1. Save\n",
    "2. Add a new cell\n",
    "3. Cut cell\n",
    "4. Copy cell\n",
    "5. Paste cell\n",
    "6. Run cell\n",
    "7. Stop running cell\n",
    "8. Restart the kernel\n",
    "9. Create a new notebook\n"
   ]
  },
  {
   "cell_type": "code",
   "execution_count": null,
   "metadata": {},
   "outputs": [],
   "source": [
    "# import statements\n",
    "%matplotlib inline \n",
    "import matplotlib.pyplot as plt \n",
    "# Import matplotlib for graphs and visualizations\n",
    "# lets you plot inside the notebook\n",
    "\n",
    "import networkx as nx # analysis for networks\n",
    "\n",
    "import pandas as pd # analysis for csv type data\n",
    "\n",
    "import numpy as np # analysis for matrices and vectors\n",
    "\n",
    "import pickle # convenient way to save data\n",
    "\n",
    "import random"
   ]
  },
  {
   "cell_type": "markdown",
   "metadata": {},
   "source": [
    "## 4. matplotlib"
   ]
  },
  {
   "cell_type": "code",
   "execution_count": null,
   "metadata": {},
   "outputs": [],
   "source": [
    "# Line charts\n",
    "\n",
    "x = [1,3,5,10]\n",
    "y = [2,2.5,10,8]\n",
    "\n",
    "# You can adjust size of the figure using figsize parameter\n",
    "fig = plt.figure(figsize=(5,3))\n",
    "\n",
    "plt.plot(x,y, 'o-')\n",
    "plt.xlim(xmax=11, xmin=0) # Limits of the axes\n",
    "plt.ylim(ymax=11, ymin=0)\n",
    "\n",
    "plt.xlabel('X axis', fontsize=12) # Label text and its properties\n",
    "plt.ylabel('Y axis', fontsize=12)\n",
    "\n",
    "# Font properties for axes ticks\n",
    "plt.tick_params(axis='both', which='major', labelsize=12)\n",
    "\n",
    "# You can put a title and customize it using title function\n",
    "plt.title('title', fontsize=14, color='r')\n",
    "\n",
    "# plt.savefig('line-chart.png', bbox_inches='tight', dpi=300)\n",
    "# plt.savefig('line-chart.pdf', bbox_inches='tight', dpi=300)"
   ]
  },
  {
   "cell_type": "code",
   "execution_count": null,
   "metadata": {},
   "outputs": [],
   "source": [
    "# Bar chart\n",
    "\n",
    "x = [1,2,3,4,5]\n",
    "y = [5,10,4,8,6]\n",
    "\n",
    "plt.bar(x,y)"
   ]
  },
  {
   "cell_type": "code",
   "execution_count": null,
   "metadata": {},
   "outputs": [],
   "source": [
    "# Multiple barchart\n",
    "\n",
    "x = np.arange(5)\n",
    "y1 = [5,10,4,8,6]\n",
    "y2 = [6,9,5,9,5]\n",
    "\n",
    "w = 0.3 # separation of bar charts\n",
    "\n",
    "plt.bar(x, y1, width=w, color='r')\n",
    "plt.bar(x+0.4, y2, width=w)\n",
    "\n",
    "plt.xticks(x + (w+0.4)/2, ('A', 'B', 'C', 'D', 'E')) # name of each bar\n",
    "\n",
    "# Font properties for axes ticks\n",
    "plt.tick_params(axis='both', which='major', labelsize=16)"
   ]
  },
  {
   "cell_type": "code",
   "execution_count": null,
   "metadata": {},
   "outputs": [],
   "source": [
    "# Histograms can also be plotted similar to barcharts\n",
    "\n",
    "# Let's create some number at random\n",
    "x = list()\n",
    "for i in range(100):\n",
    "    x.append(random.gauss(0,1))\n",
    "    \n",
    "plt.hist(x, alpha=0.5) # Hist function computes histogram\n",
    "\n",
    "plt.xlabel('Random value: x', fontsize=12)\n",
    "plt.ylabel('Histogram', fontsize=12)"
   ]
  },
  {
   "cell_type": "code",
   "execution_count": null,
   "metadata": {},
   "outputs": [],
   "source": [
    "# Scatter plot\n",
    "x, y = list(), list()\n",
    "\n",
    "for n in range(100): # make random x y values\n",
    "    x.append(random.gauss(0,2))\n",
    "    y.append(random.gauss(2,1))\n",
    "    \n",
    "plt.scatter(x,y, label='Blue', s=100, alpha=0.5, linewidth=0)\n",
    "\n",
    "x2, y2 = list(), list()\n",
    "\n",
    "for n in range(100): # make another set of random x y values\n",
    "    x2.append(random.uniform(-1,11))\n",
    "    y2.append(random.uniform(-1,11))\n",
    "    \n",
    "plt.scatter(x2, y2, label='Red', s=100, c='r', alpha=0.5, linewidth=0) # plot them\n",
    "\n",
    "plt.legend(loc='upper left', fontsize=14, scatterpoints=1) # make a legend"
   ]
  },
  {
   "cell_type": "code",
   "execution_count": null,
   "metadata": {},
   "outputs": [],
   "source": [
    "# Subplots are useful when you are planning to plot more than one figure at the same time.\n",
    "\n",
    "fig, axarr = plt.subplots(2,2, figsize=(6,6)) # 4 plots\n",
    "plt.tight_layout()\n",
    "\n",
    "xvals = [0,1,2,3,4]\n",
    "\n",
    "axarr[0,0].plot(xvals, [2,4,6,8,10], 'o') # plot\n",
    "axarr[0,1].plot(xvals, [-2,-4,-6,-8,-10], 'r-o') # plot with red circle\n",
    "axarr[1,0].hist([1,1,1,2,3,4,4,5,5,5,5]) # histogram\n",
    "axarr[1,1].scatter([1,2,3,1.5,2.5], [3,1,2,2.5,4], s=50, marker='s') # scatterplot"
   ]
  },
  {
   "cell_type": "code",
   "execution_count": null,
   "metadata": {},
   "outputs": [],
   "source": [
    "fig, axarr = plt.subplots(2, figsize=(6,6), sharex=True)\n",
    "plt.tight_layout()\n",
    "\n",
    "xvals = np.linspace(-2*np.pi, 2*np.pi, 100)\n",
    "sinx = np.sin(xvals)\n",
    "cosx = np.cos(xvals)\n",
    "\n",
    "axarr[0].plot(xvals, sinx, c='r', linewidth=5)\n",
    "axarr[0].set_ylabel('Sin(x)', fontsize=14)\n",
    "\n",
    "axarr[1].plot(xvals, cosx, 'o-')\n",
    "axarr[1].set_ylabel('Cos(x)', fontsize=14)"
   ]
  },
  {
   "cell_type": "markdown",
   "metadata": {},
   "source": [
    "## 5. Networks"
   ]
  },
  {
   "cell_type": "code",
   "execution_count": null,
   "metadata": {},
   "outputs": [],
   "source": [
    "graph = nx.Graph() # type of graph\n",
    "graph.add_node(1)\n",
    "graph.add_nodes_from([2, 3,4,5])\n",
    "graph.add_edges_from([(1, 2), (1, 3),(4,5),(1,5)])\n",
    "nx.draw_networkx(graph)"
   ]
  },
  {
   "cell_type": "code",
   "execution_count": null,
   "metadata": {},
   "outputs": [],
   "source": [
    "options = { # set options for the drawing\n",
    "    'node_color': 'yellow',\n",
    "    'node_size': 500,\n",
    "    'width': 3,\n",
    "}\n",
    "\n",
    "graph = nx.gnp_random_graph(20,0.2) # makes a random graph given number of nodes and probability of an edge\n",
    "nx.draw_networkx(graph, **options)\n",
    "#plt.savefig(\"path.png\")"
   ]
  },
  {
   "cell_type": "code",
   "execution_count": null,
   "metadata": {},
   "outputs": [],
   "source": [
    "# get list of nodes\n",
    "print(graph.nodes())\n",
    "print(graph.edges())"
   ]
  },
  {
   "cell_type": "code",
   "execution_count": null,
   "metadata": {
    "collapsed": true
   },
   "outputs": [],
   "source": [
    "# give attributes, such as weight\n",
    "\n",
    "for e1,e2 in graph.edges():\n",
    "    graph[e1][e2]['weight'] = random.randint(0,3)"
   ]
  },
  {
   "cell_type": "code",
   "execution_count": null,
   "metadata": {},
   "outputs": [],
   "source": [
    "# access attributes\n",
    "nx.get_edge_attributes(graph,'weight')"
   ]
  },
  {
   "cell_type": "code",
   "execution_count": null,
   "metadata": {},
   "outputs": [],
   "source": [
    "DG = nx.DiGraph() # directed graph\n",
    "DG.add_weighted_edges_from([(1, 2, 0.5), (3, 1, 0.75)])\n",
    "DG.out_degree(1, weight='weight')\n",
    "DG.degree(1, weight='weight')\n",
    "\n",
    "nx.draw_networkx(DG)\n",
    "\n",
    "print('Successors =',list(DG.successors(1)))\n",
    "\n",
    "print('Predecessors =',list(DG.predecessors(1)))\n"
   ]
  },
  {
   "cell_type": "markdown",
   "metadata": {},
   "source": [
    "## 6. Pandas"
   ]
  },
  {
   "cell_type": "code",
   "execution_count": null,
   "metadata": {},
   "outputs": [],
   "source": [
    "df = pd.DataFrame(np.random.randn(10, 4), columns=list('ABCD'))\n",
    "df"
   ]
  },
  {
   "cell_type": "code",
   "execution_count": null,
   "metadata": {
    "scrolled": false
   },
   "outputs": [],
   "source": [
    "# sample data into a pandas dataframe\n",
    "\n",
    "df = pd.read_csv(\"https://raw.githubusercontent.com/plotly/datasets/master/school_earnings.csv\")\n",
    "df.index = df.School # set index\n",
    "del df['School'] # remove column\n",
    "df"
   ]
  },
  {
   "cell_type": "code",
   "execution_count": null,
   "metadata": {},
   "outputs": [],
   "source": [
    "# print 1 column\n",
    "df['Gap']"
   ]
  },
  {
   "cell_type": "code",
   "execution_count": null,
   "metadata": {},
   "outputs": [],
   "source": [
    "# column names\n",
    "df.columns"
   ]
  },
  {
   "cell_type": "code",
   "execution_count": null,
   "metadata": {},
   "outputs": [],
   "source": [
    "# new column\n",
    "\n",
    "df['Total'] = df.Women + df.Men\n",
    "df"
   ]
  },
  {
   "cell_type": "code",
   "execution_count": null,
   "metadata": {},
   "outputs": [],
   "source": [
    "# basic statistics\n",
    "\n",
    "print('Men =', df.Men.mean())\n",
    "print('Women =', df.Women.mean())\n",
    "print('Dimensions =', df.shape)"
   ]
  },
  {
   "cell_type": "code",
   "execution_count": null,
   "metadata": {},
   "outputs": [],
   "source": [
    "# sort data\n",
    "\n",
    "df.sort_values(['Total'], ascending=False)"
   ]
  },
  {
   "cell_type": "code",
   "execution_count": null,
   "metadata": {},
   "outputs": [],
   "source": [
    "df.Gap.plot()"
   ]
  },
  {
   "cell_type": "code",
   "execution_count": null,
   "metadata": {},
   "outputs": [],
   "source": [
    "# unique values\n",
    "print(len(df.Gap))\n",
    "print(df.Gap.unique())\n",
    "print(len(df.Gap.unique()))"
   ]
  },
  {
   "cell_type": "markdown",
   "metadata": {},
   "source": [
    "## 7. Numpy"
   ]
  },
  {
   "cell_type": "code",
   "execution_count": null,
   "metadata": {},
   "outputs": [],
   "source": [
    "a = np.array([1, 2, 3])               # Create a rank 1 array\n",
    "print('type =', type(a))              # Prints \"<class 'numpy.ndarray'>\"\n",
    "print('shape =', a.shape)             # Prints \"(3,)\"\n",
    "print('elements =', a[0], a[1], a[2]) # Prints \"1 2 3\"\n",
    "a[0] = 5                              # Change an element of the array\n",
    "print('with new element:', a)         # Prints \"[5, 2, 3]\"\n",
    "\n",
    "b = np.array([[1,2,3],[4,5,6]])       # Create a rank 2 array\n",
    "print('New array shape =', b.shape)   # Prints \"(2, 3)\"\n",
    "print('Elements =', b[0, 0], b[0, 1], b[1, 0])      # Prints \"1 2 4\""
   ]
  },
  {
   "cell_type": "code",
   "execution_count": null,
   "metadata": {},
   "outputs": [],
   "source": [
    "# make matrix of zeros\n",
    "print('Zero Matrix')\n",
    "print(np.zeros((2,2)))\n",
    "\n",
    "print('\\n')\n",
    "\n",
    "# make matrix of 1s\n",
    "print('1 Matrix')\n",
    "print(np.ones((1,2)))\n",
    "\n",
    "print('\\n')\n",
    "\n",
    "#make constant matrix\n",
    "print('Constant Matrix')\n",
    "print(np.full((2,2), 7))\n",
    "\n",
    "print('\\n')\n",
    "\n",
    "#make identity matrix\n",
    "print('Identity Matrix')\n",
    "print(np.eye(2))\n",
    "\n",
    "print('\\n')\n",
    "\n",
    "#make random matrix\n",
    "print('Random Matrix')\n",
    "print(np.random.random((2,2)))"
   ]
  },
  {
   "cell_type": "code",
   "execution_count": null,
   "metadata": {},
   "outputs": [],
   "source": [
    "a = np.array([[1,2,3,4], [5,6,7,8], [9,10,11,12]])\n",
    "print(a)\n",
    "print('\\n')\n",
    "\n",
    "print('First two rows and Middle two column')\n",
    "print(a[:2, 1:3]) ## print first two rows and middle two columns\n",
    "\n",
    "print('\\n')\n",
    "\n",
    "print('Last Value')\n",
    "print('Last Value =', a[-1,-1]) # negative indices start from the end\n",
    "\n",
    "print('\\n')\n",
    "\n",
    "# change value in matrix\n",
    "a[0,0] = 2\n",
    "print(a)"
   ]
  },
  {
   "cell_type": "code",
   "execution_count": null,
   "metadata": {},
   "outputs": [],
   "source": [
    "# element-wise operations\n",
    "\n",
    "x = np.array([[1,2],[3,4]])\n",
    "y = np.array([[5,6],[7,8]])\n",
    "\n",
    "print('Addition')\n",
    "print(np.add(x,y))\n",
    "print('Subtraction')\n",
    "print(np.subtract(x,y))\n",
    "print('Multiplication')\n",
    "print(np.multiply(x,y))\n",
    "print('Division')\n",
    "print(np.divide(x,y))\n",
    "print('Square Root')\n",
    "print(np.sqrt(x))"
   ]
  },
  {
   "cell_type": "code",
   "execution_count": null,
   "metadata": {},
   "outputs": [],
   "source": [
    "# Matrix Operations\n",
    "x = np.array([9,10])\n",
    "y = np.array([11, 12])\n",
    "\n",
    "print('Dot Product:', np.dot(x,y))\n",
    "x = np.array([[1,2],[3,4]])\n",
    "\n",
    "\n",
    "print('Sum of all values:', np.sum(x))\n",
    "print('Sum of columns:', np.sum(x, axis=0)) # axis 0 is columns\n",
    "print('Sum of rows:', np.sum(x, axis=1)) # axis 1 is rows\n",
    "\n",
    "print('Transpose:')\n",
    "print(x.T)"
   ]
  },
  {
   "cell_type": "markdown",
   "metadata": {},
   "source": [
    "## Pickle"
   ]
  },
  {
   "cell_type": "code",
   "execution_count": null,
   "metadata": {},
   "outputs": [],
   "source": [
    "# Make up some data\n",
    "\n",
    "animal_classification = { \"lion\": \"mammal\", \"hawk\": \"bird\", \"crocodile\":\"reptile\" }\n",
    "print(animal_classification)\n",
    "pickle.dump( animal_classification, open( \"animals.p\", \"wb\" ))"
   ]
  },
  {
   "cell_type": "code",
   "execution_count": null,
   "metadata": {},
   "outputs": [],
   "source": [
    "ls"
   ]
  },
  {
   "cell_type": "code",
   "execution_count": null,
   "metadata": {},
   "outputs": [],
   "source": [
    "animals = pickle.load( open( \"animals.p\", \"rb\" ) )\n",
    "print(animals)"
   ]
  }
 ],
 "metadata": {
  "kernelspec": {
   "display_name": "Python 3",
   "language": "python",
   "name": "python3"
  },
  "language_info": {
   "codemirror_mode": {
    "name": "ipython",
    "version": 3
   },
   "file_extension": ".py",
   "mimetype": "text/x-python",
   "name": "python",
   "nbconvert_exporter": "python",
   "pygments_lexer": "ipython3",
   "version": "3.6.3"
  }
 },
 "nbformat": 4,
 "nbformat_minor": 2
}
