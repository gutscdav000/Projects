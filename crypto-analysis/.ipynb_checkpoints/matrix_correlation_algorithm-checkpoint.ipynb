{
 "cells": [
  {
   "cell_type": "code",
   "execution_count": 1,
   "metadata": {},
   "outputs": [
    {
     "name": "stdout",
     "output_type": "stream",
     "text": [
      "Importing Jupyter notebook from crypto_package.ipynb\n",
      "Importing Jupyter notebook from uniform_normal_probability_distributions.ipynb\n"
     ]
    },
    {
     "data": {
      "text/html": [
       "<script>requirejs.config({paths: { 'plotly': ['https://cdn.plot.ly/plotly-latest.min']},});if(!window.Plotly) {{require(['plotly'],function(plotly) {window.Plotly=plotly;});}}</script>"
      ],
      "text/vnd.plotly.v1+html": [
       "<script>requirejs.config({paths: { 'plotly': ['https://cdn.plot.ly/plotly-latest.min']},});if(!window.Plotly) {{require(['plotly'],function(plotly) {window.Plotly=plotly;});}}</script>"
      ]
     },
     "metadata": {},
     "output_type": "display_data"
    },
    {
     "ename": "ValueError",
     "evalue": "unsupported pickle protocol: 4",
     "output_type": "error",
     "traceback": [
      "\u001b[0;31m---------------------------------------------------------------------------\u001b[0m",
      "\u001b[0;31mValueError\u001b[0m                                Traceback (most recent call last)",
      "\u001b[0;32m<ipython-input-1-a4acefedbb1b>\u001b[0m in \u001b[0;36m<module>\u001b[0;34m()\u001b[0m\n\u001b[1;32m     35\u001b[0m \u001b[0;32mfor\u001b[0m \u001b[0malt\u001b[0m \u001b[0;32min\u001b[0m \u001b[0maltcoins\u001b[0m\u001b[0;34m:\u001b[0m\u001b[0;34m\u001b[0m\u001b[0m\n\u001b[1;32m     36\u001b[0m     \u001b[0mcoinpair\u001b[0m \u001b[0;34m=\u001b[0m \u001b[0;34m'BTC_{}'\u001b[0m\u001b[0;34m.\u001b[0m\u001b[0mformat\u001b[0m\u001b[0;34m(\u001b[0m\u001b[0malt\u001b[0m\u001b[0;34m)\u001b[0m\u001b[0;34m\u001b[0m\u001b[0m\n\u001b[0;32m---> 37\u001b[0;31m     \u001b[0mcrypto_price_df\u001b[0m \u001b[0;34m=\u001b[0m \u001b[0mCP\u001b[0m\u001b[0;34m.\u001b[0m\u001b[0mget_crypto_data\u001b[0m\u001b[0;34m(\u001b[0m\u001b[0mcoinpair\u001b[0m\u001b[0;34m)\u001b[0m\u001b[0;34m\u001b[0m\u001b[0m\n\u001b[0m\u001b[1;32m     38\u001b[0m     \u001b[0malt_data\u001b[0m\u001b[0;34m[\u001b[0m\u001b[0malt\u001b[0m\u001b[0;34m]\u001b[0m \u001b[0;34m=\u001b[0m \u001b[0mcrypto_price_df\u001b[0m\u001b[0;34m\u001b[0m\u001b[0m\n\u001b[1;32m     39\u001b[0m \u001b[0;34m\u001b[0m\u001b[0m\n",
      "\u001b[0;32mcrypto_package.ipynb\u001b[0m in \u001b[0;36mget_crypto_data\u001b[0;34m(poloniex_pair)\u001b[0m\n",
      "\u001b[0;32mcrypto_package.ipynb\u001b[0m in \u001b[0;36mget_json_data\u001b[0;34m(json_url, cache_path)\u001b[0m\n",
      "\u001b[0;32m/Users/davidgutsch/anaconda/envs/crypto-analysis/lib/python2.7/pickle.pyc\u001b[0m in \u001b[0;36mload\u001b[0;34m(file)\u001b[0m\n\u001b[1;32m   1382\u001b[0m \u001b[0;34m\u001b[0m\u001b[0m\n\u001b[1;32m   1383\u001b[0m \u001b[0;32mdef\u001b[0m \u001b[0mload\u001b[0m\u001b[0;34m(\u001b[0m\u001b[0mfile\u001b[0m\u001b[0;34m)\u001b[0m\u001b[0;34m:\u001b[0m\u001b[0;34m\u001b[0m\u001b[0m\n\u001b[0;32m-> 1384\u001b[0;31m     \u001b[0;32mreturn\u001b[0m \u001b[0mUnpickler\u001b[0m\u001b[0;34m(\u001b[0m\u001b[0mfile\u001b[0m\u001b[0;34m)\u001b[0m\u001b[0;34m.\u001b[0m\u001b[0mload\u001b[0m\u001b[0;34m(\u001b[0m\u001b[0;34m)\u001b[0m\u001b[0;34m\u001b[0m\u001b[0m\n\u001b[0m\u001b[1;32m   1385\u001b[0m \u001b[0;34m\u001b[0m\u001b[0m\n\u001b[1;32m   1386\u001b[0m \u001b[0;32mdef\u001b[0m \u001b[0mloads\u001b[0m\u001b[0;34m(\u001b[0m\u001b[0mstr\u001b[0m\u001b[0;34m)\u001b[0m\u001b[0;34m:\u001b[0m\u001b[0;34m\u001b[0m\u001b[0m\n",
      "\u001b[0;32m/Users/davidgutsch/anaconda/envs/crypto-analysis/lib/python2.7/pickle.pyc\u001b[0m in \u001b[0;36mload\u001b[0;34m(self)\u001b[0m\n\u001b[1;32m    862\u001b[0m             \u001b[0;32mwhile\u001b[0m \u001b[0;36m1\u001b[0m\u001b[0;34m:\u001b[0m\u001b[0;34m\u001b[0m\u001b[0m\n\u001b[1;32m    863\u001b[0m                 \u001b[0mkey\u001b[0m \u001b[0;34m=\u001b[0m \u001b[0mread\u001b[0m\u001b[0;34m(\u001b[0m\u001b[0;36m1\u001b[0m\u001b[0;34m)\u001b[0m\u001b[0;34m\u001b[0m\u001b[0m\n\u001b[0;32m--> 864\u001b[0;31m                 \u001b[0mdispatch\u001b[0m\u001b[0;34m[\u001b[0m\u001b[0mkey\u001b[0m\u001b[0;34m]\u001b[0m\u001b[0;34m(\u001b[0m\u001b[0mself\u001b[0m\u001b[0;34m)\u001b[0m\u001b[0;34m\u001b[0m\u001b[0m\n\u001b[0m\u001b[1;32m    865\u001b[0m         \u001b[0;32mexcept\u001b[0m \u001b[0m_Stop\u001b[0m\u001b[0;34m,\u001b[0m \u001b[0mstopinst\u001b[0m\u001b[0;34m:\u001b[0m\u001b[0;34m\u001b[0m\u001b[0m\n\u001b[1;32m    866\u001b[0m             \u001b[0;32mreturn\u001b[0m \u001b[0mstopinst\u001b[0m\u001b[0;34m.\u001b[0m\u001b[0mvalue\u001b[0m\u001b[0;34m\u001b[0m\u001b[0m\n",
      "\u001b[0;32m/Users/davidgutsch/anaconda/envs/crypto-analysis/lib/python2.7/pickle.pyc\u001b[0m in \u001b[0;36mload_proto\u001b[0;34m(self)\u001b[0m\n\u001b[1;32m    890\u001b[0m         \u001b[0mproto\u001b[0m \u001b[0;34m=\u001b[0m \u001b[0mord\u001b[0m\u001b[0;34m(\u001b[0m\u001b[0mself\u001b[0m\u001b[0;34m.\u001b[0m\u001b[0mread\u001b[0m\u001b[0;34m(\u001b[0m\u001b[0;36m1\u001b[0m\u001b[0;34m)\u001b[0m\u001b[0;34m)\u001b[0m\u001b[0;34m\u001b[0m\u001b[0m\n\u001b[1;32m    891\u001b[0m         \u001b[0;32mif\u001b[0m \u001b[0;32mnot\u001b[0m \u001b[0;36m0\u001b[0m \u001b[0;34m<=\u001b[0m \u001b[0mproto\u001b[0m \u001b[0;34m<=\u001b[0m \u001b[0;36m2\u001b[0m\u001b[0;34m:\u001b[0m\u001b[0;34m\u001b[0m\u001b[0m\n\u001b[0;32m--> 892\u001b[0;31m             \u001b[0;32mraise\u001b[0m \u001b[0mValueError\u001b[0m\u001b[0;34m,\u001b[0m \u001b[0;34m\"unsupported pickle protocol: %d\"\u001b[0m \u001b[0;34m%\u001b[0m \u001b[0mproto\u001b[0m\u001b[0;34m\u001b[0m\u001b[0m\n\u001b[0m\u001b[1;32m    893\u001b[0m     \u001b[0mdispatch\u001b[0m\u001b[0;34m[\u001b[0m\u001b[0mPROTO\u001b[0m\u001b[0;34m]\u001b[0m \u001b[0;34m=\u001b[0m \u001b[0mload_proto\u001b[0m\u001b[0;34m\u001b[0m\u001b[0m\n\u001b[1;32m    894\u001b[0m \u001b[0;34m\u001b[0m\u001b[0m\n",
      "\u001b[0;31mValueError\u001b[0m: unsupported pickle protocol: 4"
     ]
    }
   ],
   "source": [
    "import nbimporter\n",
    "import crypto_package as CP\n",
    "import uniform_normal_probability_distributions as ND\n",
    "import os, pickle, quandl, time, math\n",
    "import numpy as np\n",
    "import pandas as pd\n",
    "from datetime import datetime\n",
    "import plotly.offline as py\n",
    "import plotly.graph_objs as go\n",
    "import plotly.figure_factory as ff\n",
    "import matplotlib.pyplot as plt\n",
    "%matplotlib notebook\n",
    "from PIL import Image\n",
    "\n",
    "\n",
    "py.init_notebook_mode(connected = True)\n",
    "\n",
    "\n",
    "\n",
    "########################################################\n",
    "# compile data\n",
    "########################################################\n",
    "\n",
    "# exchange info\n",
    "altcoins = ['ETH','LTC','XRP','ETC','STR','DASH','XMR','XEM', 'GNT']\n",
    "alt_data = {}\n",
    "\n",
    "#change dir to poloniex_cache & create dir if it doesn't exist \n",
    "if not 'poloniex_cache' in os.listdir(os.getcwd()):\n",
    "    os.mkdir('poloniex_cache')\n",
    "    \n",
    "path = os.path.join(os.getcwd(), 'poloniex_cache')\n",
    "os.chdir(path)\n",
    "\n",
    "for alt in altcoins:\n",
    "    coinpair = 'BTC_{}'.format(alt)\n",
    "    crypto_price_df = CP.get_crypto_data(coinpair)\n",
    "    alt_data[alt] = crypto_price_df\n",
    "\n",
    "#leave the directory\n",
    "os.chdir('../')\n",
    "\n",
    "exchanges = ['KRAKEN','COINBASE', 'BITSTAMP','ITBIT','OKCOIN', 'GETBTC']#,'COINSBANK','HITBTC','LYBIT','ANXHK','BITME','BITBOX','INTRSNG','BTCE','WEEX','JUST','CBX']\n",
    "exch_data = {}\n",
    "# retrieve exchange data and read into dictionary\n",
    "for exchange in exchanges:\n",
    "    exchange_df = CP.get_quandl_data('BCHARTS/{}USD'.format(exchange))\n",
    "    #time.sleep(1000)\n",
    "    exch_data[exchange] = exchange_df\n",
    "    \n",
    "# Merge BTC price data series' into single dataframe\n",
    "btc_usd_datasets = CP.merge_dfs_on_column(list(exch_data.values()), list(exch_data.keys()), 'Weighted Price')\n",
    "btc_usd_datasets.replace(0, np.nan, inplace = True) # remove 0 values\n",
    "# Calc avg in new column\n",
    "btc_usd_datasets['avg_btc_price_usd'] = btc_usd_datasets.mean(axis = 1)\n",
    "\n",
    "\n",
    "\n",
    "# calculate USD Price as new col in each dataframe\n",
    "for alt in alt_data.keys():\n",
    "    alt_data[alt]['price_usd'] = alt_data[alt]['weightedAverage'] * btc_usd_datasets['avg_btc_price_usd']\n",
    "    \n",
    "\n",
    "########################################################\n",
    "# organize into daily returns\n",
    "########################################################\n",
    "dailyReturns = {}\n",
    "\n",
    "for alt in alt_data.keys():\n",
    "    dailyReturns[alt] = np.empty(len(alt_data[alt]['price_usd']) - 1)\n",
    "    for i in range(len(alt_data[alt]['price_usd']) - 1):\n",
    "        # calculate returns for day\n",
    "        dayRet = (alt_data[alt]['price_usd'][i + 1] - alt_data[alt]['price_usd'][i]) / alt_data[alt]['price_usd'][i]\n",
    "        #insert them into numpy array\n",
    "        np.insert(dailyReturns[alt], i, dayRet)\n",
    "\n",
    "        \n",
    "#matrix to contain preprocessed pearson correlation values between currencies\n",
    "pearsonValueMatrix = np.empty([len(alt_data.keys()), len(alt_data.keys())])\n",
    "indexVector = []\n",
    "i = 0\n",
    "j = 0\n",
    "for a1 in alt_data.keys():\n",
    "    indexVector.append(i)\n",
    "    for a2 in alt_data.keys():\n",
    "        np.insert(pearsonValueMatrix, [], CP.pearson_coefficient(dailyReturns[a1], dailyReturns[a2]))\n",
    "        j += 1\n",
    "    i += 1\n",
    "\n",
    "#print(pearsonValueMatrix)\n",
    "pearsonValueMatrix\n",
    "#img = Image.fromarray(pearsonValueMatrix, 'RGB')\n",
    "#img.show()"
   ]
  },
  {
   "cell_type": "code",
   "execution_count": null,
   "metadata": {
    "collapsed": true
   },
   "outputs": [],
   "source": []
  }
 ],
 "metadata": {
  "kernelspec": {
   "display_name": "Python 3",
   "language": "python",
   "name": "python3"
  },
  "language_info": {
   "codemirror_mode": {
    "name": "ipython",
    "version": 3
   },
   "file_extension": ".py",
   "mimetype": "text/x-python",
   "name": "python",
   "nbconvert_exporter": "python",
   "pygments_lexer": "ipython3",
   "version": "3.6.1"
  }
 },
 "nbformat": 4,
 "nbformat_minor": 2
}
