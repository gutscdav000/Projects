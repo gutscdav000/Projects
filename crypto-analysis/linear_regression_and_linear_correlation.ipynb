{
 "cells": [
  {
   "cell_type": "markdown",
   "metadata": {},
   "source": [
    "### Disclaimer\n",
    "The following notes have the purpose to briefly describe notions and definitions used during the lectures. The notes should provide enough information to properly follow what explained during the course, but they do not represent a complete introduction to the subject."
   ]
  },
  {
   "cell_type": "markdown",
   "metadata": {},
   "source": [
    "# Simple linear regression and linear correlation coefficient\n",
    "\n",
    "Suppose we observe $N$ data pairs. Call them $(x_i, y_i)$, for $i = 1, \\dots, N$. Suppose we describe the underlying relationship between $y_i$ and $x_i$ as \n",
    "\n",
    "$$\n",
    "y_i = \\alpha + \\beta \\, x_i + \\epsilon_i\n",
    "$$\n",
    "\n",
    "where $\\epsilon_i$ is an error term. This relationship between the true (but unobserved) underlying parameters $\\alpha$ and $\\beta$ and the data points is called a linear regression model.\n",
    "\n",
    "\n",
    "\n",
    "The goal is to find estimated values $\\hat{\\alpha}\\; $ and \n",
    "$\\hat{\\beta}\\; $ for the parameters $\\alpha$ and $\\beta$ \n",
    "which would provide the \"best\" linear fit for the data points. In simple linear regression, the \"best\" fit is understood as the line that minimizes the sum of squared residuals \n",
    "\n",
    "$$\n",
    "Q = \\sum_{i} \\hat{\\epsilon}_i \\; ^2\n",
    "$$\n",
    "\n",
    "where\n",
    "\n",
    "$$\n",
    "\\hat{\\epsilon}_i \\; ^2 =  (y_i - \\alpha - \\beta \\, x_i)^2\n",
    "$$\n",
    "\n",
    "The solution to the minimization problem\n",
    "\n",
    "$$\n",
    "\\min_{\\alpha, \\beta}  Q (\\alpha, \\beta)\n",
    "$$\n",
    "\n",
    "\n",
    "is given by\n",
    "\n",
    "$$\n",
    "\\hat{\\alpha} \\;\\; = \\bar{y} \\; - \\hat{\\beta} \\;\\; \\bar{x}\n",
    "$$\n",
    "\n",
    "and\n",
    "\n",
    "$$\n",
    "\\hat{\\beta} \\;\\; = r \\; \\frac{s_y}{s_x}\n",
    "$$\n",
    "\n",
    "where \n",
    "\n",
    "$$\n",
    "\\bar{x} = \\frac{1}{N} \\sum_i x_i \\qquad  s_x = \\sqrt{\\frac{1}{N} \\, \\sum_i (x_i - \\bar{x})^2}\n",
    "$$\n",
    "\n",
    "$$\n",
    "\\bar{y} = \\frac{1}{N} \\sum_i y_i \\qquad  s_y = \\sqrt{\\frac{1}{N} \\, \\sum_i (y_i - \\bar{y})^2}\n",
    "$$\n",
    "\n",
    "are average value and standard deviation of the samples, and\n",
    "\n",
    "$$\n",
    "r = \\frac{\\bar{xy} - \\bar{x} \\bar{y}}{ \\sqrt{ (\\bar{x^2} - \\bar{x}^2) (\\bar{y^2} - \\bar{y}^2) } }\n",
    "$$\n",
    "\n",
    "is the (Pearson's) linear correlation coefficient. The definition of $r$ is such that $-1 \\leq r \\leq 1$. Note that \n",
    "\n",
    "$$\n",
    "\\bar{x^2} = \\frac{1}{N} \\sum_i x_i^2  \\qquad  \\bar{y^2} = \\frac{1}{N} \\sum_i y_i^2\n",
    "$$\n",
    "are the second moments of the samples."
   ]
  },
  {
   "cell_type": "markdown",
   "metadata": {},
   "source": [
    "## Libraries used in the notebook"
   ]
  },
  {
   "cell_type": "code",
   "execution_count": 29,
   "metadata": {
    "collapsed": true
   },
   "outputs": [],
   "source": [
    "import matplotlib.pyplot as plt\n",
    "%matplotlib inline \n",
    "import random\n",
    "import numpy as np\n",
    "from scipy import stats"
   ]
  },
  {
   "cell_type": "markdown",
   "metadata": {},
   "source": [
    "## Python implementation"
   ]
  },
  {
   "cell_type": "code",
   "execution_count": 30,
   "metadata": {},
   "outputs": [],
   "source": [
    "def average_value (x):\n",
    "    av = 0.0\n",
    "    num = 0.0\n",
    "    for i in range(0, len(x)):\n",
    "        av += float(x[i])\n",
    "        num += 1.0\n",
    "    if num > 0.0:\n",
    "        return av/num\n",
    "    return None\n",
    "\n",
    "\n",
    "def std_deviation (x):\n",
    "    av_x = average_value (x)\n",
    "    if av_x != None:\n",
    "        std = 0.0\n",
    "        num = 0.0\n",
    "        for i in range(0, len(x)):\n",
    "            std += (float(x[i]) - av_x)*(float(x[i]) - av_x)\n",
    "            num += 1.0\n",
    "        return np.sqrt(std/num)\n",
    "    return None\n",
    "\n",
    "\n",
    "def second_moment (x):\n",
    "    av = 0.0\n",
    "    num = 0.0\n",
    "    for i in range(0, len(x)):\n",
    "        av += float(x[i])*float(x[i])\n",
    "        num += 1.0\n",
    "    if num > 0.0:\n",
    "        return av/num\n",
    "    return None\n",
    "\n",
    "\n",
    "def linear_regression (x, y):\n",
    "    \n",
    "    if (len(x) != len(y)):\n",
    "        return None\n",
    "    \n",
    "    a_x =  average_value (x)\n",
    "    a_y =  average_value (y)\n",
    "    s_x =  std_deviation (x)\n",
    "    s_y =  std_deviation (y)\n",
    "    m_x =  second_moment (x)\n",
    "    m_y =  second_moment (y)\n",
    "    \n",
    "    \n",
    "    p = []\n",
    "    for i in range(0, len(x)):\n",
    "        p.append(float(x[i])*float(y[i]))\n",
    "    a_p = average_value (p)\n",
    "    \n",
    "    ##linear correlation coefficient\n",
    "    r = (a_p - a_x*a_y) / np.sqrt ( (m_x-a_x*a_x) * (m_y-a_y*a_y) )\n",
    "    \n",
    "    \n",
    "    ##best fit\n",
    "    beta = r * s_y / s_x\n",
    "    alpha = a_y - beta * a_x\n",
    "    \n",
    "    \n",
    "    return alpha, beta, r"
   ]
  },
  {
   "cell_type": "markdown",
   "metadata": {},
   "source": [
    "### Create synthetic data\n",
    "\n",
    "Generate linearly related data plus some noise."
   ]
  },
  {
   "cell_type": "code",
   "execution_count": 31,
   "metadata": {
    "collapsed": true
   },
   "outputs": [],
   "source": [
    "def synthetic_data (alpha, beta, noise_level, N):\n",
    "    \n",
    "    e = np.random.normal(loc=0.0, scale=noise_level, size=N)\n",
    "    x = np.linspace(-1.0, 1.0, num=N)\n",
    "    y = np.zeros(N)\n",
    "    for i in range(0, len(x)):\n",
    "        y[i] = alpha + beta * x[i] + e[i]\n",
    "        \n",
    "    return x, y    "
   ]
  },
  {
   "cell_type": "code",
   "execution_count": 38,
   "metadata": {},
   "outputs": [],
   "source": [
    "t_alpha = 1.0\n",
    "t_beta = -1.0\n",
    "noise_level = 0.5\n",
    "N = 100\n",
    "\n",
    "x, y = synthetic_data (t_alpha, t_beta, noise_level, N)"
   ]
  },
  {
   "cell_type": "code",
   "execution_count": 39,
   "metadata": {},
   "outputs": [
    {
     "name": "stdout",
     "output_type": "stream",
     "text": [
      "alpha :  0.917360039647\n",
      "beta :  -0.97085370864\n",
      "correlation coefficient :  -0.716973358134\n"
     ]
    }
   ],
   "source": [
    "alpha, beta, r = linear_regression (x, y)\n",
    "print ('alpha : ', alpha)\n",
    "print ('beta : ', beta)\n",
    "print ('correlation coefficient : ', r)"
   ]
  },
  {
   "cell_type": "code",
   "execution_count": 40,
   "metadata": {},
   "outputs": [
    {
     "data": {
      "image/png": "[encoded data removed]",
      "text/plain": [
       "<matplotlib.figure.Figure at 0x7f2d6786c0b8>"
      ]
     },
     "metadata": {},
     "output_type": "display_data"
    }
   ],
   "source": [
    "plt.figure(figsize=(5,5))\n",
    "plt.rc('text', usetex=True)\n",
    "plt.rc('font', size=24, **{'family':'sans-serif','sans-serif':['Helvetica']})\n",
    "plt.rcParams['xtick.major.pad'] = 8\n",
    "plt.rcParams['ytick.major.pad'] = 8\n",
    "\n",
    "\n",
    "\n",
    "\n",
    "plt.plot(x,y, marker='o', color ='r', markersize=5, linewidth=0)\n",
    "\n",
    "best_fit_x = np.arange(min(x), max(x), (max(x)- min(x)) / 10000.0)\n",
    "best_fit_y = alpha + beta * best_fit_x\n",
    "plt.plot(best_fit_x, best_fit_y, color ='k', markersize=0, linewidth=3, linestyle='-', alpha = 0.5)\n",
    "\n",
    "\n",
    "plt.xlabel('$x$')\n",
    "plt.ylabel('$y$')\n",
    "\n",
    "plt.show()"
   ]
  },
  {
   "cell_type": "markdown",
   "metadata": {},
   "source": [
    "## Linear regression with scipy\n",
    "\n",
    "Linear correlation is implemented in many Python libraries. For example in\n",
    "[scipy](https://docs.scipy.org/doc/scipy-0.14.0/reference/generated/scipy.stats.linregress.html)"
   ]
  },
  {
   "cell_type": "code",
   "execution_count": 7,
   "metadata": {},
   "outputs": [
    {
     "name": "stdout",
     "output_type": "stream",
     "text": [
      "alpha :  1.02033566085\n",
      "beta :  1.04391114837\n",
      "correlation coefficient :  0.490307660053\n"
     ]
    }
   ],
   "source": [
    "slope, intercept, r_value, p_value, std_err = stats.linregress(x,y)\n",
    "print ('alpha : ', intercept)\n",
    "print ('beta : ', slope)\n",
    "print ('correlation coefficient : ', r_value)"
   ]
  },
  {
   "cell_type": "markdown",
   "metadata": {},
   "source": [
    "## Analysis of winning times in 100 meters at the Olympics\n",
    "\n",
    "The following replicates the linear regression of historical data as performed in\n",
    "\n",
    "Atkinson M, Hay SI, Stephens P, Hunter C, Bignell G (2004) [Momentous sprint at the 2156 Olympics?](https://www.nature.com/articles/431525a)\n",
    "Nature 431: 525–526.\n"
   ]
  },
  {
   "cell_type": "code",
   "execution_count": 24,
   "metadata": {
    "collapsed": true
   },
   "outputs": [],
   "source": [
    "def read_data (filein):\n",
    "    year = []\n",
    "    gold = []\n",
    "    world_record = 0.0\n",
    "\n",
    "    with open(filein) as f:\n",
    "        for line in f:\n",
    "            if not line.startswith(\"#\"):\n",
    "                if int(line.strip().split(' ')[0]) < 2016 and int(line.strip().split(' ')[0]) > 1900:\n",
    "                    data = line.strip()\n",
    "                    data_col = data.split(' ')\n",
    "                    year.append(int(data_col[0]))\n",
    "                    gold.append(float(data_col[1]))\n",
    "            else:\n",
    "                world_record = float(line.strip()[1:])\n",
    "                \n",
    "    return year, gold"
   ]
  },
  {
   "cell_type": "code",
   "execution_count": 25,
   "metadata": {
    "collapsed": true
   },
   "outputs": [],
   "source": [
    "filein = 'Data/mens-100-metres.dat'\n",
    "year_m, gold_m = read_data (filein)\n",
    "\n",
    "filein = 'Data/womens-100-metres.dat'\n",
    "year_w, gold_w = read_data (filein)"
   ]
  },
  {
   "cell_type": "code",
   "execution_count": 26,
   "metadata": {},
   "outputs": [
    {
     "name": "stdout",
     "output_type": "stream",
     "text": [
      "Results for M:\n",
      "alpha :  32.4654305143\n",
      "beta :  -0.0113151877215\n",
      "correlation coefficient :  -0.925220621525\n",
      "Results for W:\n",
      "alpha :  43.2000437468\n",
      "beta :  -0.0161927431806\n",
      "correlation coefficient :  -0.85759700334\n"
     ]
    }
   ],
   "source": [
    "#M\n",
    "print ('Results for M:')\n",
    "slope_m, intercept_m, r_value_m, p_value_m, std_err_m = stats.linregress(year_m,gold_m)\n",
    "print ('alpha : ', intercept_m)\n",
    "print ('beta : ', slope_m)\n",
    "print ('correlation coefficient : ', r_value_m)\n",
    "\n",
    "#W\n",
    "print ('Results for W:')\n",
    "slope_w, intercept_w, r_value_w, p_value_w, std_err_w = stats.linregress(year_w,gold_w)\n",
    "print ('alpha : ', intercept_w)\n",
    "print ('beta : ', slope_w)\n",
    "print ('correlation coefficient : ', r_value_w)"
   ]
  },
  {
   "cell_type": "code",
   "execution_count": 28,
   "metadata": {},
   "outputs": [
    {
     "data": {
      "image/png": "[encoded data removed]",
      "text/plain": [
       "<matplotlib.figure.Figure at 0x7f2d675f74e0>"
      ]
     },
     "metadata": {},
     "output_type": "display_data"
    }
   ],
   "source": [
    "plt.figure(figsize=(10,5))\n",
    "plt.rc('text', usetex=True)\n",
    "plt.rc('font', size=24, **{'family':'sans-serif','sans-serif':['Helvetica']})\n",
    "plt.rcParams['xtick.major.pad'] = 8\n",
    "plt.rcParams['ytick.major.pad'] = 8\n",
    "\n",
    "\n",
    "\n",
    "#M\n",
    "plt.plot(year_m,gold_m, marker='o', color ='blue', markersize=5, linewidth=0)\n",
    "best_fit_x = np.arange(1900, (2252- 1900 / 10000.0))\n",
    "best_fit_y = intercept_m + slope_m * best_fit_x\n",
    "plt.plot(best_fit_x, best_fit_y, color ='blue', markersize=0, linewidth=3, linestyle='-', alpha = 0.5)\n",
    "\n",
    "                       \n",
    "#W\n",
    "plt.plot(year_w,gold_w, marker='s', color ='red', markersize=5, linewidth=0)\n",
    "best_fit_x = np.arange(1900, (2252- 1900 / 10000.0))\n",
    "best_fit_y = intercept_w + slope_w * best_fit_x\n",
    "plt.plot(best_fit_x, best_fit_y, color ='red', markersize=0, linewidth=3, linestyle='-', alpha = 0.5)\n",
    "\n",
    "\n",
    "\n",
    "plt.ylabel('time')\n",
    "plt.xlabel('year')\n",
    "\n",
    "plt.show()"
   ]
  },
  {
   "cell_type": "code",
   "execution_count": null,
   "metadata": {
    "collapsed": true
   },
   "outputs": [],
   "source": []
  }
 ],
 "metadata": {
  "kernelspec": {
   "display_name": "Python [default]",
   "language": "python",
   "name": "python3"
  },
  "language_info": {
   "codemirror_mode": {
    "name": "ipython",
    "version": 3
   },
   "file_extension": ".py",
   "mimetype": "text/x-python",
   "name": "python",
   "nbconvert_exporter": "python",
   "pygments_lexer": "ipython3",
   "version": "3.6.2"
  }
 },
 "nbformat": 4,
 "nbformat_minor": 1
}
