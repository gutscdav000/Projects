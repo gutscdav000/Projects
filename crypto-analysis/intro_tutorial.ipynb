{
 "cells": [
  {
   "cell_type": "markdown",
   "metadata": {},
   "source": [
    "# Intro Tutorial"
   ]
  },
  {
   "cell_type": "markdown",
   "metadata": {},
   "source": [
    "## 1. Opening a notebook\n",
    "\n",
    "1. Open https://filrad.soic.indiana.edu:8080\n",
    "2. More details about opening the notebook are located at 'Announcements/Access to the notebook server'\n",
    "\n",
    "\n",
    "TEST ON SERVeR\n"
   ]
  },
  {
   "cell_type": "markdown",
   "metadata": {},
   "source": [
    "## 2. Cells\n",
    "\n",
    "Drop down menu has three options. \n",
    "1. 'Code' is for running code\n",
    "2. 'Markdown' is for typing notes like these. [Here](https://github.com/adam-p/markdown-here/wiki/Markdown-Cheatsheet) is a tutorial. This is useful for explaining code and graphs when submitting assignments\n",
    "\n",
    "press Shift+Enter to run code"
   ]
  },
  {
   "cell_type": "code",
   "execution_count": 1,
   "metadata": {},
   "outputs": [
    {
     "data": {
      "text/plain": [
       "3"
      ]
     },
     "execution_count": 1,
     "metadata": {},
     "output_type": "execute_result"
    }
   ],
   "source": [
    "1+2"
   ]
  },
  {
   "cell_type": "code",
   "execution_count": 3,
   "metadata": {
    "collapsed": true
   },
   "outputs": [],
   "source": [
    "a = 3"
   ]
  },
  {
   "cell_type": "markdown",
   "metadata": {},
   "source": [
    "Variables are saved and can be used in the next cell. This is useful if you want to do step by step calculations"
   ]
  },
  {
   "cell_type": "code",
   "execution_count": 4,
   "metadata": {},
   "outputs": [
    {
     "data": {
      "text/plain": [
       "5"
      ]
     },
     "execution_count": 4,
     "metadata": {},
     "output_type": "execute_result"
    }
   ],
   "source": [
    "a + 2"
   ]
  },
  {
   "cell_type": "markdown",
   "metadata": {},
   "source": [
    "## 3. Other buttons\n",
    "\n",
    "1. Save\n",
    "2. Add a new cell\n",
    "3. Cut cell\n",
    "4. Copy cell\n",
    "5. Paste cell\n",
    "6. Run cell\n",
    "7. Stop running cell\n",
    "8. Restart the kernel\n",
    "9. Create a new notebook\n"
   ]
  },
  {
   "cell_type": "code",
   "execution_count": 12,
   "metadata": {},
   "outputs": [],
   "source": [
    "# import statements\n",
    "#%matplotlib inline \n",
    "#import matplotlib.pyplot as plt \n",
    "# Import matplotlib for graphs and visualizations\n",
    "# lets you plot inside the notebook\n",
    "\n",
    "import networkx as nx # analysis for networks\n",
    "\n",
    "import pandas as pd # analysis for csv type data\n",
    "\n",
    "import numpy as np # analysis for matrices and vectors\n",
    "\n",
    "import pickle # convenient way to save data\n",
    "\n",
    "import random\n",
    "import matplotlib.pyplot as plt"
   ]
  },
  {
   "cell_type": "markdown",
   "metadata": {},
   "source": [
    "## 4. matplotlib"
   ]
  },
  {
   "cell_type": "code",
   "execution_count": 8,
   "metadata": {},
   "outputs": [
    {
     "data": {
      "text/plain": [
       "Text(0.5,1,'title')"
      ]
     },
     "execution_count": 8,
     "metadata": {},
     "output_type": "execute_result"
    }
   ],
   "source": [
    "# Line charts\n",
    "\n",
    "x = [1,3,5,10]\n",
    "y = [2,2.5,10,8]\n",
    "\n",
    "# You can adjust size of the figure using figsize parameter\n",
    "fig = plt.figure(figsize=(5,3))\n",
    "\n",
    "plt.plot(x,y, 'o-')\n",
    "plt.xlim(xmax=11, xmin=0) # Limits of the axes\n",
    "plt.ylim(ymax=11, ymin=0)\n",
    "\n",
    "plt.xlabel('X axis', fontsize=12) # Label text and its properties\n",
    "plt.ylabel('Y axis', fontsize=12)\n",
    "\n",
    "# Font properties for axes ticks\n",
    "plt.tick_params(axis='both', which='major', labelsize=12)\n",
    "\n",
    "# You can put a title and customize it using title function\n",
    "plt.title('title', fontsize=14, color='r')\n",
    "\n",
    "# plt.savefig('line-chart.png', bbox_inches='tight', dpi=300)\n",
    "# plt.savefig('line-chart.pdf', bbox_inches='tight', dpi=300)"
   ]
  },
  {
   "cell_type": "code",
   "execution_count": 9,
   "metadata": {},
   "outputs": [
    {
     "data": {
      "text/plain": [
       "<Container object of 5 artists>"
      ]
     },
     "execution_count": 9,
     "metadata": {},
     "output_type": "execute_result"
    }
   ],
   "source": [
    "# Bar chart\n",
    "\n",
    "x = [1,2,3,4,5]\n",
    "y = [5,10,4,8,6]\n",
    "\n",
    "plt.bar(x,y)"
   ]
  },
  {
   "cell_type": "code",
   "execution_count": 10,
   "metadata": {
    "collapsed": true
   },
   "outputs": [],
   "source": [
    "# Multiple barchart\n",
    "\n",
    "x = np.arange(5)\n",
    "y1 = [5,10,4,8,6]\n",
    "y2 = [6,9,5,9,5]\n",
    "\n",
    "w = 0.3 # separation of bar charts\n",
    "\n",
    "plt.bar(x, y1, width=w, color='r')\n",
    "plt.bar(x+0.4, y2, width=w)\n",
    "\n",
    "plt.xticks(x + (w+0.4)/2, ('A', 'B', 'C', 'D', 'E')) # name of each bar\n",
    "\n",
    "# Font properties for axes ticks\n",
    "plt.tick_params(axis='both', which='major', labelsize=16)"
   ]
  },
  {
   "cell_type": "code",
   "execution_count": 13,
   "metadata": {},
   "outputs": [
    {
     "data": {
      "text/plain": [
       "Text(0,0.5,'Histogram')"
      ]
     },
     "execution_count": 13,
     "metadata": {},
     "output_type": "execute_result"
    }
   ],
   "source": [
    "# Histograms can also be plotted similar to barcharts\n",
    "\n",
    "# Let's create some number at random\n",
    "x = list()\n",
    "for i in range(100):\n",
    "    x.append(random.gauss(0,1))\n",
    "    \n",
    "plt.hist(x, alpha=0.5) # Hist function computes histogram\n",
    "\n",
    "plt.xlabel('Random value: x', fontsize=12)\n",
    "plt.ylabel('Histogram', fontsize=12)"
   ]
  },
  {
   "cell_type": "code",
   "execution_count": 14,
   "metadata": {},
   "outputs": [
    {
     "data": {
      "text/plain": [
       "<matplotlib.legend.Legend at 0x115f3b908>"
      ]
     },
     "execution_count": 14,
     "metadata": {},
     "output_type": "execute_result"
    }
   ],
   "source": [
    "# Scatter plot\n",
    "x, y = list(), list()\n",
    "\n",
    "for n in range(100): # make random x y values\n",
    "    x.append(random.gauss(0,2))\n",
    "    y.append(random.gauss(2,1))\n",
    "    \n",
    "plt.scatter(x,y, label='Blue', s=100, alpha=0.5, linewidth=0)\n",
    "\n",
    "x2, y2 = list(), list()\n",
    "\n",
    "for n in range(100): # make another set of random x y values\n",
    "    x2.append(random.uniform(-1,11))\n",
    "    y2.append(random.uniform(-1,11))\n",
    "    \n",
    "plt.scatter(x2, y2, label='Red', s=100, c='r', alpha=0.5, linewidth=0) # plot them\n",
    "\n",
    "plt.legend(loc='upper left', fontsize=14, scatterpoints=1) # make a legend"
   ]
  },
  {
   "cell_type": "code",
   "execution_count": 15,
   "metadata": {},
   "outputs": [
    {
     "data": {
      "text/plain": [
       "<matplotlib.collections.PathCollection at 0x116083550>"
      ]
     },
     "execution_count": 15,
     "metadata": {},
     "output_type": "execute_result"
    }
   ],
   "source": [
    "# Subplots are useful when you are planning to plot more than one figure at the same time.\n",
    "\n",
    "fig, axarr = plt.subplots(2,2, figsize=(6,6)) # 4 plots\n",
    "plt.tight_layout()\n",
    "\n",
    "xvals = [0,1,2,3,4]\n",
    "\n",
    "axarr[0,0].plot(xvals, [2,4,6,8,10], 'o') # plot\n",
    "axarr[0,1].plot(xvals, [-2,-4,-6,-8,-10], 'r-o') # plot with red circle\n",
    "axarr[1,0].hist([1,1,1,2,3,4,4,5,5,5,5]) # histogram\n",
    "axarr[1,1].scatter([1,2,3,1.5,2.5], [3,1,2,2.5,4], s=50, marker='s') # scatterplot"
   ]
  },
  {
   "cell_type": "code",
   "execution_count": 16,
   "metadata": {},
   "outputs": [
    {
     "data": {
      "text/plain": [
       "Text(27.125,0.5,'Cos(x)')"
      ]
     },
     "execution_count": 16,
     "metadata": {},
     "output_type": "execute_result"
    }
   ],
   "source": [
    "fig, axarr = plt.subplots(2, figsize=(6,6), sharex=True)\n",
    "plt.tight_layout()\n",
    "\n",
    "xvals = np.linspace(-2*np.pi, 2*np.pi, 100)\n",
    "sinx = np.sin(xvals)\n",
    "cosx = np.cos(xvals)\n",
    "\n",
    "axarr[0].plot(xvals, sinx, c='r', linewidth=5)\n",
    "axarr[0].set_ylabel('Sin(x)', fontsize=14)\n",
    "\n",
    "axarr[1].plot(xvals, cosx, 'o-')\n",
    "axarr[1].set_ylabel('Cos(x)', fontsize=14)"
   ]
  },
  {
   "cell_type": "markdown",
   "metadata": {},
   "source": [
    "## 5. Networks"
   ]
  },
  {
   "cell_type": "code",
   "execution_count": 17,
   "metadata": {
    "collapsed": true
   },
   "outputs": [],
   "source": [
    "graph = nx.Graph() # type of graph\n",
    "graph.add_node(1)\n",
    "graph.add_nodes_from([2, 3,4,5])\n",
    "graph.add_edges_from([(1, 2), (1, 3),(4,5),(1,5)])\n",
    "nx.draw_networkx(graph)"
   ]
  },
  {
   "cell_type": "code",
   "execution_count": 19,
   "metadata": {
    "collapsed": true
   },
   "outputs": [],
   "source": [
    "options = { # set options for the drawing\n",
    "    'node_color': 'yellow',\n",
    "    'node_size': 500,\n",
    "    'width': 3,\n",
    "}\n",
    "\n",
    "graph = nx.gnp_random_graph(20,0.2) # makes a random graph given number of nodes and probability of an edge\n",
    "nx.draw_networkx(graph, **options)\n",
    "#plt.savefig(\"path.png\")"
   ]
  },
  {
   "cell_type": "code",
   "execution_count": 20,
   "metadata": {},
   "outputs": [
    {
     "name": "stdout",
     "output_type": "stream",
     "text": [
      "[0, 1, 2, 3, 4, 5, 6, 7, 8, 9, 10, 11, 12, 13, 14, 15, 16, 17, 18, 19]\n",
      "[(0, 4), (0, 13), (1, 8), (1, 12), (1, 14), (1, 15), (1, 17), (2, 3), (2, 5), (2, 9), (2, 11), (2, 12), (2, 14), (2, 17), (3, 4), (4, 8), (4, 14), (5, 16), (6, 7), (6, 9), (6, 10), (6, 14), (7, 12), (8, 10), (8, 12), (8, 16), (9, 16), (9, 17), (10, 14), (10, 15), (11, 12), (11, 13), (11, 19), (13, 17), (14, 17)]\n"
     ]
    }
   ],
   "source": [
    "# get list of nodes\n",
    "print(graph.nodes())\n",
    "print(graph.edges())"
   ]
  },
  {
   "cell_type": "code",
   "execution_count": 21,
   "metadata": {
    "collapsed": true
   },
   "outputs": [],
   "source": [
    "# give attributes, such as weight\n",
    "\n",
    "for e1,e2 in graph.edges():\n",
    "    graph[e1][e2]['weight'] = random.randint(0,3)"
   ]
  },
  {
   "cell_type": "code",
   "execution_count": 22,
   "metadata": {},
   "outputs": [
    {
     "data": {
      "text/plain": [
       "{(0, 4): 0,\n",
       " (0, 13): 0,\n",
       " (1, 8): 2,\n",
       " (1, 12): 2,\n",
       " (1, 14): 1,\n",
       " (1, 15): 1,\n",
       " (1, 17): 1,\n",
       " (2, 3): 2,\n",
       " (2, 5): 1,\n",
       " (2, 9): 0,\n",
       " (2, 11): 2,\n",
       " (2, 12): 1,\n",
       " (2, 14): 2,\n",
       " (2, 17): 1,\n",
       " (3, 4): 3,\n",
       " (4, 8): 3,\n",
       " (4, 14): 1,\n",
       " (5, 16): 0,\n",
       " (6, 7): 3,\n",
       " (6, 9): 1,\n",
       " (6, 10): 2,\n",
       " (6, 14): 2,\n",
       " (7, 12): 2,\n",
       " (8, 10): 3,\n",
       " (8, 12): 0,\n",
       " (8, 16): 2,\n",
       " (9, 16): 3,\n",
       " (9, 17): 3,\n",
       " (10, 14): 2,\n",
       " (10, 15): 1,\n",
       " (11, 12): 0,\n",
       " (11, 13): 2,\n",
       " (11, 19): 0,\n",
       " (13, 17): 1,\n",
       " (14, 17): 2}"
      ]
     },
     "execution_count": 22,
     "metadata": {},
     "output_type": "execute_result"
    }
   ],
   "source": [
    "# access attributes\n",
    "nx.get_edge_attributes(graph,'weight')"
   ]
  },
  {
   "cell_type": "code",
   "execution_count": 23,
   "metadata": {},
   "outputs": [
    {
     "name": "stdout",
     "output_type": "stream",
     "text": [
      "Successors = [2]\n",
      "Predecessors = [3]\n"
     ]
    }
   ],
   "source": [
    "DG = nx.DiGraph() # directed graph\n",
    "DG.add_weighted_edges_from([(1, 2, 0.5), (3, 1, 0.75)])\n",
    "DG.out_degree(1, weight='weight')\n",
    "DG.degree(1, weight='weight')\n",
    "\n",
    "nx.draw_networkx(DG)\n",
    "\n",
    "print('Successors =',list(DG.successors(1)))\n",
    "\n",
    "print('Predecessors =',list(DG.predecessors(1)))\n"
   ]
  },
  {
   "cell_type": "markdown",
   "metadata": {},
   "source": [
    "## 6. Pandas"
   ]
  },
  {
   "cell_type": "code",
   "execution_count": 24,
   "metadata": {},
   "outputs": [
    {
     "data": {
      "text/html": [
       "<div>\n",
       "<style scoped>\n",
       "    .dataframe tbody tr th:only-of-type {\n",
       "        vertical-align: middle;\n",
       "    }\n",
       "\n",
       "    .dataframe tbody tr th {\n",
       "        vertical-align: top;\n",
       "    }\n",
       "\n",
       "    .dataframe thead th {\n",
       "        text-align: right;\n",
       "    }\n",
       "</style>\n",
       "<table border=\"1\" class=\"dataframe\">\n",
       "  <thead>\n",
       "    <tr style=\"text-align: right;\">\n",
       "      <th></th>\n",
       "      <th>A</th>\n",
       "      <th>B</th>\n",
       "      <th>C</th>\n",
       "      <th>D</th>\n",
       "    </tr>\n",
       "  </thead>\n",
       "  <tbody>\n",
       "    <tr>\n",
       "      <th>0</th>\n",
       "      <td>-0.951672</td>\n",
       "      <td>0.208343</td>\n",
       "      <td>-1.490307</td>\n",
       "      <td>-0.240304</td>\n",
       "    </tr>\n",
       "    <tr>\n",
       "      <th>1</th>\n",
       "      <td>-2.047679</td>\n",
       "      <td>-0.251076</td>\n",
       "      <td>2.463693</td>\n",
       "      <td>0.519645</td>\n",
       "    </tr>\n",
       "    <tr>\n",
       "      <th>2</th>\n",
       "      <td>0.010780</td>\n",
       "      <td>-0.925751</td>\n",
       "      <td>-1.161060</td>\n",
       "      <td>0.896083</td>\n",
       "    </tr>\n",
       "    <tr>\n",
       "      <th>3</th>\n",
       "      <td>-0.836987</td>\n",
       "      <td>-1.383007</td>\n",
       "      <td>0.729536</td>\n",
       "      <td>0.684829</td>\n",
       "    </tr>\n",
       "    <tr>\n",
       "      <th>4</th>\n",
       "      <td>-1.606003</td>\n",
       "      <td>-0.382521</td>\n",
       "      <td>0.591213</td>\n",
       "      <td>-0.128939</td>\n",
       "    </tr>\n",
       "    <tr>\n",
       "      <th>5</th>\n",
       "      <td>0.023545</td>\n",
       "      <td>0.205847</td>\n",
       "      <td>0.189882</td>\n",
       "      <td>0.059222</td>\n",
       "    </tr>\n",
       "    <tr>\n",
       "      <th>6</th>\n",
       "      <td>-1.135021</td>\n",
       "      <td>-0.643469</td>\n",
       "      <td>0.988402</td>\n",
       "      <td>0.321417</td>\n",
       "    </tr>\n",
       "    <tr>\n",
       "      <th>7</th>\n",
       "      <td>-0.087478</td>\n",
       "      <td>-0.233495</td>\n",
       "      <td>0.343168</td>\n",
       "      <td>-1.555828</td>\n",
       "    </tr>\n",
       "    <tr>\n",
       "      <th>8</th>\n",
       "      <td>0.116964</td>\n",
       "      <td>0.412299</td>\n",
       "      <td>0.272079</td>\n",
       "      <td>0.365933</td>\n",
       "    </tr>\n",
       "    <tr>\n",
       "      <th>9</th>\n",
       "      <td>-0.632484</td>\n",
       "      <td>0.052837</td>\n",
       "      <td>-0.627665</td>\n",
       "      <td>0.359088</td>\n",
       "    </tr>\n",
       "  </tbody>\n",
       "</table>\n",
       "</div>"
      ],
      "text/plain": [
       "          A         B         C         D\n",
       "0 -0.951672  0.208343 -1.490307 -0.240304\n",
       "1 -2.047679 -0.251076  2.463693  0.519645\n",
       "2  0.010780 -0.925751 -1.161060  0.896083\n",
       "3 -0.836987 -1.383007  0.729536  0.684829\n",
       "4 -1.606003 -0.382521  0.591213 -0.128939\n",
       "5  0.023545  0.205847  0.189882  0.059222\n",
       "6 -1.135021 -0.643469  0.988402  0.321417\n",
       "7 -0.087478 -0.233495  0.343168 -1.555828\n",
       "8  0.116964  0.412299  0.272079  0.365933\n",
       "9 -0.632484  0.052837 -0.627665  0.359088"
      ]
     },
     "execution_count": 24,
     "metadata": {},
     "output_type": "execute_result"
    }
   ],
   "source": [
    "df = pd.DataFrame(np.random.randn(10, 4), columns=list('ABCD'))\n",
    "df"
   ]
  },
  {
   "cell_type": "code",
   "execution_count": 25,
   "metadata": {
    "scrolled": false
   },
   "outputs": [
    {
     "data": {
      "text/html": [
       "<div>\n",
       "<style scoped>\n",
       "    .dataframe tbody tr th:only-of-type {\n",
       "        vertical-align: middle;\n",
       "    }\n",
       "\n",
       "    .dataframe tbody tr th {\n",
       "        vertical-align: top;\n",
       "    }\n",
       "\n",
       "    .dataframe thead th {\n",
       "        text-align: right;\n",
       "    }\n",
       "</style>\n",
       "<table border=\"1\" class=\"dataframe\">\n",
       "  <thead>\n",
       "    <tr style=\"text-align: right;\">\n",
       "      <th></th>\n",
       "      <th>Women</th>\n",
       "      <th>Men</th>\n",
       "      <th>Gap</th>\n",
       "    </tr>\n",
       "    <tr>\n",
       "      <th>School</th>\n",
       "      <th></th>\n",
       "      <th></th>\n",
       "      <th></th>\n",
       "    </tr>\n",
       "  </thead>\n",
       "  <tbody>\n",
       "    <tr>\n",
       "      <th>MIT</th>\n",
       "      <td>94</td>\n",
       "      <td>152</td>\n",
       "      <td>58</td>\n",
       "    </tr>\n",
       "    <tr>\n",
       "      <th>Stanford</th>\n",
       "      <td>96</td>\n",
       "      <td>151</td>\n",
       "      <td>55</td>\n",
       "    </tr>\n",
       "    <tr>\n",
       "      <th>Harvard</th>\n",
       "      <td>112</td>\n",
       "      <td>165</td>\n",
       "      <td>53</td>\n",
       "    </tr>\n",
       "    <tr>\n",
       "      <th>U.Penn</th>\n",
       "      <td>92</td>\n",
       "      <td>141</td>\n",
       "      <td>49</td>\n",
       "    </tr>\n",
       "    <tr>\n",
       "      <th>Princeton</th>\n",
       "      <td>90</td>\n",
       "      <td>137</td>\n",
       "      <td>47</td>\n",
       "    </tr>\n",
       "    <tr>\n",
       "      <th>Chicago</th>\n",
       "      <td>78</td>\n",
       "      <td>118</td>\n",
       "      <td>40</td>\n",
       "    </tr>\n",
       "    <tr>\n",
       "      <th>Georgetown</th>\n",
       "      <td>94</td>\n",
       "      <td>131</td>\n",
       "      <td>37</td>\n",
       "    </tr>\n",
       "    <tr>\n",
       "      <th>Tufts</th>\n",
       "      <td>76</td>\n",
       "      <td>112</td>\n",
       "      <td>36</td>\n",
       "    </tr>\n",
       "    <tr>\n",
       "      <th>Yale</th>\n",
       "      <td>79</td>\n",
       "      <td>114</td>\n",
       "      <td>35</td>\n",
       "    </tr>\n",
       "    <tr>\n",
       "      <th>Columbia</th>\n",
       "      <td>86</td>\n",
       "      <td>119</td>\n",
       "      <td>33</td>\n",
       "    </tr>\n",
       "    <tr>\n",
       "      <th>Duke</th>\n",
       "      <td>93</td>\n",
       "      <td>124</td>\n",
       "      <td>31</td>\n",
       "    </tr>\n",
       "    <tr>\n",
       "      <th>Dartmouth</th>\n",
       "      <td>84</td>\n",
       "      <td>114</td>\n",
       "      <td>30</td>\n",
       "    </tr>\n",
       "    <tr>\n",
       "      <th>NYU</th>\n",
       "      <td>67</td>\n",
       "      <td>94</td>\n",
       "      <td>27</td>\n",
       "    </tr>\n",
       "    <tr>\n",
       "      <th>Notre Dame</th>\n",
       "      <td>73</td>\n",
       "      <td>100</td>\n",
       "      <td>27</td>\n",
       "    </tr>\n",
       "    <tr>\n",
       "      <th>Cornell</th>\n",
       "      <td>80</td>\n",
       "      <td>107</td>\n",
       "      <td>27</td>\n",
       "    </tr>\n",
       "    <tr>\n",
       "      <th>Michigan</th>\n",
       "      <td>62</td>\n",
       "      <td>84</td>\n",
       "      <td>22</td>\n",
       "    </tr>\n",
       "    <tr>\n",
       "      <th>Brown</th>\n",
       "      <td>72</td>\n",
       "      <td>92</td>\n",
       "      <td>20</td>\n",
       "    </tr>\n",
       "    <tr>\n",
       "      <th>Berkeley</th>\n",
       "      <td>71</td>\n",
       "      <td>88</td>\n",
       "      <td>17</td>\n",
       "    </tr>\n",
       "    <tr>\n",
       "      <th>Emory</th>\n",
       "      <td>68</td>\n",
       "      <td>82</td>\n",
       "      <td>14</td>\n",
       "    </tr>\n",
       "    <tr>\n",
       "      <th>UCLA</th>\n",
       "      <td>64</td>\n",
       "      <td>78</td>\n",
       "      <td>14</td>\n",
       "    </tr>\n",
       "    <tr>\n",
       "      <th>SoCal</th>\n",
       "      <td>72</td>\n",
       "      <td>81</td>\n",
       "      <td>9</td>\n",
       "    </tr>\n",
       "  </tbody>\n",
       "</table>\n",
       "</div>"
      ],
      "text/plain": [
       "            Women  Men  Gap\n",
       "School                     \n",
       "MIT            94  152   58\n",
       "Stanford       96  151   55\n",
       "Harvard       112  165   53\n",
       "U.Penn         92  141   49\n",
       "Princeton      90  137   47\n",
       "Chicago        78  118   40\n",
       "Georgetown     94  131   37\n",
       "Tufts          76  112   36\n",
       "Yale           79  114   35\n",
       "Columbia       86  119   33\n",
       "Duke           93  124   31\n",
       "Dartmouth      84  114   30\n",
       "NYU            67   94   27\n",
       "Notre Dame     73  100   27\n",
       "Cornell        80  107   27\n",
       "Michigan       62   84   22\n",
       "Brown          72   92   20\n",
       "Berkeley       71   88   17\n",
       "Emory          68   82   14\n",
       "UCLA           64   78   14\n",
       "SoCal          72   81    9"
      ]
     },
     "execution_count": 25,
     "metadata": {},
     "output_type": "execute_result"
    }
   ],
   "source": [
    "# sample data into a pandas dataframe\n",
    "\n",
    "df = pd.read_csv(\"https://raw.githubusercontent.com/plotly/datasets/master/school_earnings.csv\")\n",
    "df.index = df.School # set index\n",
    "del df['School'] # remove column\n",
    "df"
   ]
  },
  {
   "cell_type": "code",
   "execution_count": 26,
   "metadata": {},
   "outputs": [
    {
     "data": {
      "text/plain": [
       "School\n",
       "MIT           58\n",
       "Stanford      55\n",
       "Harvard       53\n",
       "U.Penn        49\n",
       "Princeton     47\n",
       "Chicago       40\n",
       "Georgetown    37\n",
       "Tufts         36\n",
       "Yale          35\n",
       "Columbia      33\n",
       "Duke          31\n",
       "Dartmouth     30\n",
       "NYU           27\n",
       "Notre Dame    27\n",
       "Cornell       27\n",
       "Michigan      22\n",
       "Brown         20\n",
       "Berkeley      17\n",
       "Emory         14\n",
       "UCLA          14\n",
       "SoCal          9\n",
       "Name: Gap, dtype: int64"
      ]
     },
     "execution_count": 26,
     "metadata": {},
     "output_type": "execute_result"
    }
   ],
   "source": [
    "# print 1 column\n",
    "df['Gap']"
   ]
  },
  {
   "cell_type": "code",
   "execution_count": 27,
   "metadata": {},
   "outputs": [
    {
     "data": {
      "text/plain": [
       "Index(['Women', 'Men', 'Gap'], dtype='object')"
      ]
     },
     "execution_count": 27,
     "metadata": {},
     "output_type": "execute_result"
    }
   ],
   "source": [
    "# column names\n",
    "df.columns"
   ]
  },
  {
   "cell_type": "code",
   "execution_count": 31,
   "metadata": {},
   "outputs": [
    {
     "data": {
      "text/html": [
       "<div>\n",
       "<style scoped>\n",
       "    .dataframe tbody tr th:only-of-type {\n",
       "        vertical-align: middle;\n",
       "    }\n",
       "\n",
       "    .dataframe tbody tr th {\n",
       "        vertical-align: top;\n",
       "    }\n",
       "\n",
       "    .dataframe thead th {\n",
       "        text-align: right;\n",
       "    }\n",
       "</style>\n",
       "<table border=\"1\" class=\"dataframe\">\n",
       "  <thead>\n",
       "    <tr style=\"text-align: right;\">\n",
       "      <th></th>\n",
       "      <th>Women</th>\n",
       "      <th>Men</th>\n",
       "      <th>Gap</th>\n",
       "      <th>Total</th>\n",
       "    </tr>\n",
       "    <tr>\n",
       "      <th>School</th>\n",
       "      <th></th>\n",
       "      <th></th>\n",
       "      <th></th>\n",
       "      <th></th>\n",
       "    </tr>\n",
       "  </thead>\n",
       "  <tbody>\n",
       "    <tr>\n",
       "      <th>MIT</th>\n",
       "      <td>94</td>\n",
       "      <td>152</td>\n",
       "      <td>58</td>\n",
       "      <td>246</td>\n",
       "    </tr>\n",
       "    <tr>\n",
       "      <th>Stanford</th>\n",
       "      <td>96</td>\n",
       "      <td>151</td>\n",
       "      <td>55</td>\n",
       "      <td>247</td>\n",
       "    </tr>\n",
       "    <tr>\n",
       "      <th>Harvard</th>\n",
       "      <td>112</td>\n",
       "      <td>165</td>\n",
       "      <td>53</td>\n",
       "      <td>277</td>\n",
       "    </tr>\n",
       "    <tr>\n",
       "      <th>U.Penn</th>\n",
       "      <td>92</td>\n",
       "      <td>141</td>\n",
       "      <td>49</td>\n",
       "      <td>233</td>\n",
       "    </tr>\n",
       "    <tr>\n",
       "      <th>Princeton</th>\n",
       "      <td>90</td>\n",
       "      <td>137</td>\n",
       "      <td>47</td>\n",
       "      <td>227</td>\n",
       "    </tr>\n",
       "    <tr>\n",
       "      <th>Chicago</th>\n",
       "      <td>78</td>\n",
       "      <td>118</td>\n",
       "      <td>40</td>\n",
       "      <td>196</td>\n",
       "    </tr>\n",
       "    <tr>\n",
       "      <th>Georgetown</th>\n",
       "      <td>94</td>\n",
       "      <td>131</td>\n",
       "      <td>37</td>\n",
       "      <td>225</td>\n",
       "    </tr>\n",
       "    <tr>\n",
       "      <th>Tufts</th>\n",
       "      <td>76</td>\n",
       "      <td>112</td>\n",
       "      <td>36</td>\n",
       "      <td>188</td>\n",
       "    </tr>\n",
       "    <tr>\n",
       "      <th>Yale</th>\n",
       "      <td>79</td>\n",
       "      <td>114</td>\n",
       "      <td>35</td>\n",
       "      <td>193</td>\n",
       "    </tr>\n",
       "    <tr>\n",
       "      <th>Columbia</th>\n",
       "      <td>86</td>\n",
       "      <td>119</td>\n",
       "      <td>33</td>\n",
       "      <td>205</td>\n",
       "    </tr>\n",
       "    <tr>\n",
       "      <th>Duke</th>\n",
       "      <td>93</td>\n",
       "      <td>124</td>\n",
       "      <td>31</td>\n",
       "      <td>217</td>\n",
       "    </tr>\n",
       "    <tr>\n",
       "      <th>Dartmouth</th>\n",
       "      <td>84</td>\n",
       "      <td>114</td>\n",
       "      <td>30</td>\n",
       "      <td>198</td>\n",
       "    </tr>\n",
       "    <tr>\n",
       "      <th>NYU</th>\n",
       "      <td>67</td>\n",
       "      <td>94</td>\n",
       "      <td>27</td>\n",
       "      <td>161</td>\n",
       "    </tr>\n",
       "    <tr>\n",
       "      <th>Notre Dame</th>\n",
       "      <td>73</td>\n",
       "      <td>100</td>\n",
       "      <td>27</td>\n",
       "      <td>173</td>\n",
       "    </tr>\n",
       "    <tr>\n",
       "      <th>Cornell</th>\n",
       "      <td>80</td>\n",
       "      <td>107</td>\n",
       "      <td>27</td>\n",
       "      <td>187</td>\n",
       "    </tr>\n",
       "    <tr>\n",
       "      <th>Michigan</th>\n",
       "      <td>62</td>\n",
       "      <td>84</td>\n",
       "      <td>22</td>\n",
       "      <td>146</td>\n",
       "    </tr>\n",
       "    <tr>\n",
       "      <th>Brown</th>\n",
       "      <td>72</td>\n",
       "      <td>92</td>\n",
       "      <td>20</td>\n",
       "      <td>164</td>\n",
       "    </tr>\n",
       "    <tr>\n",
       "      <th>Berkeley</th>\n",
       "      <td>71</td>\n",
       "      <td>88</td>\n",
       "      <td>17</td>\n",
       "      <td>159</td>\n",
       "    </tr>\n",
       "    <tr>\n",
       "      <th>Emory</th>\n",
       "      <td>68</td>\n",
       "      <td>82</td>\n",
       "      <td>14</td>\n",
       "      <td>150</td>\n",
       "    </tr>\n",
       "    <tr>\n",
       "      <th>UCLA</th>\n",
       "      <td>64</td>\n",
       "      <td>78</td>\n",
       "      <td>14</td>\n",
       "      <td>142</td>\n",
       "    </tr>\n",
       "    <tr>\n",
       "      <th>SoCal</th>\n",
       "      <td>72</td>\n",
       "      <td>81</td>\n",
       "      <td>9</td>\n",
       "      <td>153</td>\n",
       "    </tr>\n",
       "  </tbody>\n",
       "</table>\n",
       "</div>"
      ],
      "text/plain": [
       "            Women  Men  Gap  Total\n",
       "School                            \n",
       "MIT            94  152   58    246\n",
       "Stanford       96  151   55    247\n",
       "Harvard       112  165   53    277\n",
       "U.Penn         92  141   49    233\n",
       "Princeton      90  137   47    227\n",
       "Chicago        78  118   40    196\n",
       "Georgetown     94  131   37    225\n",
       "Tufts          76  112   36    188\n",
       "Yale           79  114   35    193\n",
       "Columbia       86  119   33    205\n",
       "Duke           93  124   31    217\n",
       "Dartmouth      84  114   30    198\n",
       "NYU            67   94   27    161\n",
       "Notre Dame     73  100   27    173\n",
       "Cornell        80  107   27    187\n",
       "Michigan       62   84   22    146\n",
       "Brown          72   92   20    164\n",
       "Berkeley       71   88   17    159\n",
       "Emory          68   82   14    150\n",
       "UCLA           64   78   14    142\n",
       "SoCal          72   81    9    153"
      ]
     },
     "execution_count": 31,
     "metadata": {},
     "output_type": "execute_result"
    }
   ],
   "source": [
    "# new column\n",
    "\n",
    "df['Total'] = df.Women + df.Men\n",
    "df"
   ]
  },
  {
   "cell_type": "code",
   "execution_count": 32,
   "metadata": {},
   "outputs": [
    {
     "name": "stdout",
     "output_type": "stream",
     "text": [
      "Men = 113.523809524\n",
      "Women = 81.0952380952\n",
      "Dimensions = (21, 4)\n"
     ]
    }
   ],
   "source": [
    "# basic statistics\n",
    "\n",
    "print('Men =', df.Men.mean())\n",
    "print('Women =', df.Women.mean())\n",
    "print('Dimensions =', df.shape)"
   ]
  },
  {
   "cell_type": "code",
   "execution_count": 33,
   "metadata": {},
   "outputs": [
    {
     "data": {
      "text/html": [
       "<div>\n",
       "<style scoped>\n",
       "    .dataframe tbody tr th:only-of-type {\n",
       "        vertical-align: middle;\n",
       "    }\n",
       "\n",
       "    .dataframe tbody tr th {\n",
       "        vertical-align: top;\n",
       "    }\n",
       "\n",
       "    .dataframe thead th {\n",
       "        text-align: right;\n",
       "    }\n",
       "</style>\n",
       "<table border=\"1\" class=\"dataframe\">\n",
       "  <thead>\n",
       "    <tr style=\"text-align: right;\">\n",
       "      <th></th>\n",
       "      <th>Women</th>\n",
       "      <th>Men</th>\n",
       "      <th>Gap</th>\n",
       "      <th>Total</th>\n",
       "    </tr>\n",
       "    <tr>\n",
       "      <th>School</th>\n",
       "      <th></th>\n",
       "      <th></th>\n",
       "      <th></th>\n",
       "      <th></th>\n",
       "    </tr>\n",
       "  </thead>\n",
       "  <tbody>\n",
       "    <tr>\n",
       "      <th>Harvard</th>\n",
       "      <td>112</td>\n",
       "      <td>165</td>\n",
       "      <td>53</td>\n",
       "      <td>277</td>\n",
       "    </tr>\n",
       "    <tr>\n",
       "      <th>Stanford</th>\n",
       "      <td>96</td>\n",
       "      <td>151</td>\n",
       "      <td>55</td>\n",
       "      <td>247</td>\n",
       "    </tr>\n",
       "    <tr>\n",
       "      <th>MIT</th>\n",
       "      <td>94</td>\n",
       "      <td>152</td>\n",
       "      <td>58</td>\n",
       "      <td>246</td>\n",
       "    </tr>\n",
       "    <tr>\n",
       "      <th>U.Penn</th>\n",
       "      <td>92</td>\n",
       "      <td>141</td>\n",
       "      <td>49</td>\n",
       "      <td>233</td>\n",
       "    </tr>\n",
       "    <tr>\n",
       "      <th>Princeton</th>\n",
       "      <td>90</td>\n",
       "      <td>137</td>\n",
       "      <td>47</td>\n",
       "      <td>227</td>\n",
       "    </tr>\n",
       "    <tr>\n",
       "      <th>Georgetown</th>\n",
       "      <td>94</td>\n",
       "      <td>131</td>\n",
       "      <td>37</td>\n",
       "      <td>225</td>\n",
       "    </tr>\n",
       "    <tr>\n",
       "      <th>Duke</th>\n",
       "      <td>93</td>\n",
       "      <td>124</td>\n",
       "      <td>31</td>\n",
       "      <td>217</td>\n",
       "    </tr>\n",
       "    <tr>\n",
       "      <th>Columbia</th>\n",
       "      <td>86</td>\n",
       "      <td>119</td>\n",
       "      <td>33</td>\n",
       "      <td>205</td>\n",
       "    </tr>\n",
       "    <tr>\n",
       "      <th>Dartmouth</th>\n",
       "      <td>84</td>\n",
       "      <td>114</td>\n",
       "      <td>30</td>\n",
       "      <td>198</td>\n",
       "    </tr>\n",
       "    <tr>\n",
       "      <th>Chicago</th>\n",
       "      <td>78</td>\n",
       "      <td>118</td>\n",
       "      <td>40</td>\n",
       "      <td>196</td>\n",
       "    </tr>\n",
       "    <tr>\n",
       "      <th>Yale</th>\n",
       "      <td>79</td>\n",
       "      <td>114</td>\n",
       "      <td>35</td>\n",
       "      <td>193</td>\n",
       "    </tr>\n",
       "    <tr>\n",
       "      <th>Tufts</th>\n",
       "      <td>76</td>\n",
       "      <td>112</td>\n",
       "      <td>36</td>\n",
       "      <td>188</td>\n",
       "    </tr>\n",
       "    <tr>\n",
       "      <th>Cornell</th>\n",
       "      <td>80</td>\n",
       "      <td>107</td>\n",
       "      <td>27</td>\n",
       "      <td>187</td>\n",
       "    </tr>\n",
       "    <tr>\n",
       "      <th>Notre Dame</th>\n",
       "      <td>73</td>\n",
       "      <td>100</td>\n",
       "      <td>27</td>\n",
       "      <td>173</td>\n",
       "    </tr>\n",
       "    <tr>\n",
       "      <th>Brown</th>\n",
       "      <td>72</td>\n",
       "      <td>92</td>\n",
       "      <td>20</td>\n",
       "      <td>164</td>\n",
       "    </tr>\n",
       "    <tr>\n",
       "      <th>NYU</th>\n",
       "      <td>67</td>\n",
       "      <td>94</td>\n",
       "      <td>27</td>\n",
       "      <td>161</td>\n",
       "    </tr>\n",
       "    <tr>\n",
       "      <th>Berkeley</th>\n",
       "      <td>71</td>\n",
       "      <td>88</td>\n",
       "      <td>17</td>\n",
       "      <td>159</td>\n",
       "    </tr>\n",
       "    <tr>\n",
       "      <th>SoCal</th>\n",
       "      <td>72</td>\n",
       "      <td>81</td>\n",
       "      <td>9</td>\n",
       "      <td>153</td>\n",
       "    </tr>\n",
       "    <tr>\n",
       "      <th>Emory</th>\n",
       "      <td>68</td>\n",
       "      <td>82</td>\n",
       "      <td>14</td>\n",
       "      <td>150</td>\n",
       "    </tr>\n",
       "    <tr>\n",
       "      <th>Michigan</th>\n",
       "      <td>62</td>\n",
       "      <td>84</td>\n",
       "      <td>22</td>\n",
       "      <td>146</td>\n",
       "    </tr>\n",
       "    <tr>\n",
       "      <th>UCLA</th>\n",
       "      <td>64</td>\n",
       "      <td>78</td>\n",
       "      <td>14</td>\n",
       "      <td>142</td>\n",
       "    </tr>\n",
       "  </tbody>\n",
       "</table>\n",
       "</div>"
      ],
      "text/plain": [
       "            Women  Men  Gap  Total\n",
       "School                            \n",
       "Harvard       112  165   53    277\n",
       "Stanford       96  151   55    247\n",
       "MIT            94  152   58    246\n",
       "U.Penn         92  141   49    233\n",
       "Princeton      90  137   47    227\n",
       "Georgetown     94  131   37    225\n",
       "Duke           93  124   31    217\n",
       "Columbia       86  119   33    205\n",
       "Dartmouth      84  114   30    198\n",
       "Chicago        78  118   40    196\n",
       "Yale           79  114   35    193\n",
       "Tufts          76  112   36    188\n",
       "Cornell        80  107   27    187\n",
       "Notre Dame     73  100   27    173\n",
       "Brown          72   92   20    164\n",
       "NYU            67   94   27    161\n",
       "Berkeley       71   88   17    159\n",
       "SoCal          72   81    9    153\n",
       "Emory          68   82   14    150\n",
       "Michigan       62   84   22    146\n",
       "UCLA           64   78   14    142"
      ]
     },
     "execution_count": 33,
     "metadata": {},
     "output_type": "execute_result"
    }
   ],
   "source": [
    "# sort data\n",
    "\n",
    "df.sort_values(['Total'], ascending=False)"
   ]
  },
  {
   "cell_type": "code",
   "execution_count": 34,
   "metadata": {},
   "outputs": [
    {
     "data": {
      "text/plain": [
       "<matplotlib.axes._subplots.AxesSubplot at 0x112aacf98>"
      ]
     },
     "execution_count": 34,
     "metadata": {},
     "output_type": "execute_result"
    }
   ],
   "source": [
    "df.Gap.plot()"
   ]
  },
  {
   "cell_type": "code",
   "execution_count": 35,
   "metadata": {},
   "outputs": [
    {
     "name": "stdout",
     "output_type": "stream",
     "text": [
      "21\n",
      "[58 55 53 49 47 40 37 36 35 33 31 30 27 22 20 17 14  9]\n",
      "18\n"
     ]
    }
   ],
   "source": [
    "# unique values\n",
    "print(len(df.Gap))\n",
    "print(df.Gap.unique())\n",
    "print(len(df.Gap.unique()))"
   ]
  },
  {
   "cell_type": "markdown",
   "metadata": {},
   "source": [
    "## 7. Numpy"
   ]
  },
  {
   "cell_type": "code",
   "execution_count": 36,
   "metadata": {},
   "outputs": [
    {
     "name": "stdout",
     "output_type": "stream",
     "text": [
      "type = <class 'numpy.ndarray'>\n",
      "shape = (3,)\n",
      "elements = 1 2 3\n",
      "with new element: [5 2 3]\n",
      "New array shape = (2, 3)\n",
      "Elements = 1 2 4\n"
     ]
    }
   ],
   "source": [
    "a = np.array([1, 2, 3])               # Create a rank 1 array\n",
    "print('type =', type(a))              # Prints \"<class 'numpy.ndarray'>\"\n",
    "print('shape =', a.shape)             # Prints \"(3,)\"\n",
    "print('elements =', a[0], a[1], a[2]) # Prints \"1 2 3\"\n",
    "a[0] = 5                              # Change an element of the array\n",
    "print('with new element:', a)         # Prints \"[5, 2, 3]\"\n",
    "\n",
    "b = np.array([[1,2,3],[4,5,6]])       # Create a rank 2 array\n",
    "print('New array shape =', b.shape)   # Prints \"(2, 3)\"\n",
    "print('Elements =', b[0, 0], b[0, 1], b[1, 0])      # Prints \"1 2 4\""
   ]
  },
  {
   "cell_type": "code",
   "execution_count": 37,
   "metadata": {},
   "outputs": [
    {
     "name": "stdout",
     "output_type": "stream",
     "text": [
      "Zero Matrix\n",
      "[[ 0.  0.]\n",
      " [ 0.  0.]]\n",
      "\n",
      "\n",
      "1 Matrix\n",
      "[[ 1.  1.]]\n",
      "\n",
      "\n",
      "Constant Matrix\n",
      "[[7 7]\n",
      " [7 7]]\n",
      "\n",
      "\n",
      "Identity Matrix\n",
      "[[ 1.  0.]\n",
      " [ 0.  1.]]\n",
      "\n",
      "\n",
      "Random Matrix\n",
      "[[ 0.56537522  0.11544463]\n",
      " [ 0.24259327  0.50256221]]\n"
     ]
    }
   ],
   "source": [
    "# make matrix of zeros\n",
    "print('Zero Matrix')\n",
    "print(np.zeros((2,2)))\n",
    "\n",
    "print('\\n')\n",
    "\n",
    "# make matrix of 1s\n",
    "print('1 Matrix')\n",
    "print(np.ones((1,2)))\n",
    "\n",
    "print('\\n')\n",
    "\n",
    "#make constant matrix\n",
    "print('Constant Matrix')\n",
    "print(np.full((2,2), 7))\n",
    "\n",
    "print('\\n')\n",
    "\n",
    "#make identity matrix\n",
    "print('Identity Matrix')\n",
    "print(np.eye(2))\n",
    "\n",
    "print('\\n')\n",
    "\n",
    "#make random matrix\n",
    "print('Random Matrix')\n",
    "print(np.random.random((2,2)))"
   ]
  },
  {
   "cell_type": "code",
   "execution_count": 38,
   "metadata": {},
   "outputs": [
    {
     "name": "stdout",
     "output_type": "stream",
     "text": [
      "[[ 1  2  3  4]\n",
      " [ 5  6  7  8]\n",
      " [ 9 10 11 12]]\n",
      "\n",
      "\n",
      "First two rows and Middle two column\n",
      "[[2 3]\n",
      " [6 7]]\n",
      "\n",
      "\n",
      "Last Value\n",
      "Last Value = 12\n",
      "\n",
      "\n",
      "[[ 2  2  3  4]\n",
      " [ 5  6  7  8]\n",
      " [ 9 10 11 12]]\n"
     ]
    }
   ],
   "source": [
    "a = np.array([[1,2,3,4], [5,6,7,8], [9,10,11,12]])\n",
    "print(a)\n",
    "print('\\n')\n",
    "\n",
    "print('First two rows and Middle two column')\n",
    "print(a[:2, 1:3]) ## print first two rows and middle two columns\n",
    "\n",
    "print('\\n')\n",
    "\n",
    "print('Last Value')\n",
    "print('Last Value =', a[-1,-1]) # negative indices start from the end\n",
    "\n",
    "print('\\n')\n",
    "\n",
    "# change value in matrix\n",
    "a[0,0] = 2\n",
    "print(a)"
   ]
  },
  {
   "cell_type": "code",
   "execution_count": 39,
   "metadata": {},
   "outputs": [
    {
     "name": "stdout",
     "output_type": "stream",
     "text": [
      "Addition\n",
      "[[ 6  8]\n",
      " [10 12]]\n",
      "Subtraction\n",
      "[[-4 -4]\n",
      " [-4 -4]]\n",
      "Multiplication\n",
      "[[ 5 12]\n",
      " [21 32]]\n",
      "Division\n",
      "[[ 0.2         0.33333333]\n",
      " [ 0.42857143  0.5       ]]\n",
      "Square Root\n",
      "[[ 1.          1.41421356]\n",
      " [ 1.73205081  2.        ]]\n"
     ]
    }
   ],
   "source": [
    "# element-wise operations\n",
    "\n",
    "x = np.array([[1,2],[3,4]])\n",
    "y = np.array([[5,6],[7,8]])\n",
    "\n",
    "print('Addition')\n",
    "print(np.add(x,y))\n",
    "print('Subtraction')\n",
    "print(np.subtract(x,y))\n",
    "print('Multiplication')\n",
    "print(np.multiply(x,y))\n",
    "print('Division')\n",
    "print(np.divide(x,y))\n",
    "print('Square Root')\n",
    "print(np.sqrt(x))"
   ]
  },
  {
   "cell_type": "code",
   "execution_count": 40,
   "metadata": {},
   "outputs": [
    {
     "name": "stdout",
     "output_type": "stream",
     "text": [
      "Dot Product: 219\n",
      "Sum of all values: 10\n",
      "Sum of columns: [4 6]\n",
      "Sum of rows: [3 7]\n",
      "Transpose:\n",
      "[[1 3]\n",
      " [2 4]]\n"
     ]
    }
   ],
   "source": [
    "# Matrix Operations\n",
    "x = np.array([9,10])\n",
    "y = np.array([11, 12])\n",
    "\n",
    "print('Dot Product:', np.dot(x,y))\n",
    "x = np.array([[1,2],[3,4]])\n",
    "\n",
    "\n",
    "print('Sum of all values:', np.sum(x))\n",
    "print('Sum of columns:', np.sum(x, axis=0)) # axis 0 is columns\n",
    "print('Sum of rows:', np.sum(x, axis=1)) # axis 1 is rows\n",
    "\n",
    "print('Transpose:')\n",
    "print(x.T)"
   ]
  },
  {
   "cell_type": "markdown",
   "metadata": {},
   "source": [
    "## Pickle"
   ]
  },
  {
   "cell_type": "code",
   "execution_count": 41,
   "metadata": {},
   "outputs": [
    {
     "name": "stdout",
     "output_type": "stream",
     "text": [
      "{'lion': 'mammal', 'hawk': 'bird', 'crocodile': 'reptile'}\n"
     ]
    }
   ],
   "source": [
    "# Make up some data\n",
    "\n",
    "animal_classification = { \"lion\": \"mammal\", \"hawk\": \"bird\", \"crocodile\":\"reptile\" }\n",
    "print(animal_classification)\n",
    "pickle.dump( animal_classification, open( \"animals.p\", \"wb\" ))"
   ]
  },
  {
   "cell_type": "code",
   "execution_count": 42,
   "metadata": {},
   "outputs": [
    {
     "name": "stdout",
     "output_type": "stream",
     "text": [
      "README.md                        crypto_data_vizualization.py\r\n",
      "animals.p                        intro_tutorial.ipynb\r\n",
      "\u001b[34mbin\u001b[m\u001b[m/                             \u001b[34mpoloniex_cache\u001b[m\u001b[m/\r\n",
      "crypto_data_vizualization.ipynb  \u001b[34mquandl_cache\u001b[m\u001b[m/\r\n"
     ]
    }
   ],
   "source": [
    "ls"
   ]
  },
  {
   "cell_type": "code",
   "execution_count": 43,
   "metadata": {},
   "outputs": [
    {
     "name": "stdout",
     "output_type": "stream",
     "text": [
      "{'lion': 'mammal', 'hawk': 'bird', 'crocodile': 'reptile'}\n"
     ]
    }
   ],
   "source": [
    "animals = pickle.load( open( \"animals.p\", \"rb\" ) )\n",
    "print(animals)"
   ]
  },
  {
   "cell_type": "code",
   "execution_count": null,
   "metadata": {
    "collapsed": true
   },
   "outputs": [],
   "source": []
  }
 ],
 "metadata": {
  "kernelspec": {
   "display_name": "Python [default]",
   "language": "python",
   "name": "python3"
  },
  "language_info": {
   "codemirror_mode": {
    "name": "ipython",
    "version": 3
   },
   "file_extension": ".py",
   "mimetype": "text/x-python",
   "name": "python",
   "nbconvert_exporter": "python",
   "pygments_lexer": "ipython3",
   "version": "3.6.2"
  }
 },
 "nbformat": 4,
 "nbformat_minor": 2
}
